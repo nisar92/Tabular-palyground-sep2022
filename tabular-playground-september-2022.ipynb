{
 "cells": [
  {
   "cell_type": "code",
   "execution_count": 1,
   "id": "c300de45",
   "metadata": {
    "_cell_guid": "b1076dfc-b9ad-4769-8c92-a6c4dae69d19",
    "_uuid": "8f2839f25d086af736a60e9eeb907d3b93b6e0e5",
    "collapsed": true,
    "execution": {
     "iopub.execute_input": "2022-09-05T05:40:30.378933Z",
     "iopub.status.busy": "2022-09-05T05:40:30.377858Z",
     "iopub.status.idle": "2022-09-05T05:41:06.215814Z",
     "shell.execute_reply": "2022-09-05T05:41:06.214392Z"
    },
    "jupyter": {
     "outputs_hidden": true
    },
    "papermill": {
     "duration": 35.856754,
     "end_time": "2022-09-05T05:41:06.219173",
     "exception": false,
     "start_time": "2022-09-05T05:40:30.362419",
     "status": "completed"
    },
    "tags": []
   },
   "outputs": [
    {
     "name": "stdout",
     "output_type": "stream",
     "text": [
      "Collecting flaml\r\n",
      "  Downloading FLAML-1.0.11-py3-none-any.whl (205 kB)\r\n",
      "\u001b[2K     \u001b[90m━━━━━━━━━━━━━━━━━━━━━━━━━━━━━━━━━━━━━━━\u001b[0m \u001b[32m205.6/205.6 kB\u001b[0m \u001b[31m5.0 MB/s\u001b[0m eta \u001b[36m0:00:00\u001b[0m\r\n",
      "\u001b[?25hRequirement already satisfied: lightgbm>=2.3.1 in /opt/conda/lib/python3.7/site-packages (from flaml) (3.3.2)\r\n",
      "Requirement already satisfied: scikit-learn>=0.24 in /opt/conda/lib/python3.7/site-packages (from flaml) (1.0.2)\r\n",
      "Requirement already satisfied: scipy>=1.4.1 in /opt/conda/lib/python3.7/site-packages (from flaml) (1.7.3)\r\n",
      "Requirement already satisfied: NumPy>=1.17.0rc1 in /opt/conda/lib/python3.7/site-packages (from flaml) (1.21.6)\r\n",
      "Requirement already satisfied: pandas>=1.1.4 in /opt/conda/lib/python3.7/site-packages (from flaml) (1.3.5)\r\n",
      "Requirement already satisfied: xgboost>=0.90 in /opt/conda/lib/python3.7/site-packages (from flaml) (1.6.1)\r\n",
      "Requirement already satisfied: wheel in /opt/conda/lib/python3.7/site-packages (from lightgbm>=2.3.1->flaml) (0.37.1)\r\n",
      "Requirement already satisfied: python-dateutil>=2.7.3 in /opt/conda/lib/python3.7/site-packages (from pandas>=1.1.4->flaml) (2.8.2)\r\n",
      "Requirement already satisfied: pytz>=2017.3 in /opt/conda/lib/python3.7/site-packages (from pandas>=1.1.4->flaml) (2022.1)\r\n",
      "Requirement already satisfied: joblib>=0.11 in /opt/conda/lib/python3.7/site-packages (from scikit-learn>=0.24->flaml) (1.0.1)\r\n",
      "Requirement already satisfied: threadpoolctl>=2.0.0 in /opt/conda/lib/python3.7/site-packages (from scikit-learn>=0.24->flaml) (3.1.0)\r\n",
      "Requirement already satisfied: six>=1.5 in /opt/conda/lib/python3.7/site-packages (from python-dateutil>=2.7.3->pandas>=1.1.4->flaml) (1.15.0)\r\n",
      "Installing collected packages: flaml\r\n",
      "Successfully installed flaml-1.0.11\r\n",
      "\u001b[33mWARNING: Running pip as the 'root' user can result in broken permissions and conflicting behaviour with the system package manager. It is recommended to use a virtual environment instead: https://pip.pypa.io/warnings/venv\u001b[0m\u001b[33m\r\n",
      "\u001b[0mCollecting autoviz\r\n",
      "  Downloading autoviz-0.1.44-py3-none-any.whl (63 kB)\r\n",
      "\u001b[2K     \u001b[90m━━━━━━━━━━━━━━━━━━━━━━━━━━━━━━━━━━━━━━━━\u001b[0m \u001b[32m63.0/63.0 kB\u001b[0m \u001b[31m2.6 MB/s\u001b[0m eta \u001b[36m0:00:00\u001b[0m\r\n",
      "\u001b[?25hRequirement already satisfied: numpy in /opt/conda/lib/python3.7/site-packages (from autoviz) (1.21.6)\r\n",
      "Requirement already satisfied: bokeh>=2.4.2 in /opt/conda/lib/python3.7/site-packages (from autoviz) (2.4.3)\r\n",
      "Requirement already satisfied: seaborn>=0.11.1 in /opt/conda/lib/python3.7/site-packages (from autoviz) (0.11.2)\r\n",
      "Requirement already satisfied: emoji in /opt/conda/lib/python3.7/site-packages (from autoviz) (2.0.0)\r\n",
      "Requirement already satisfied: pandas in /opt/conda/lib/python3.7/site-packages (from autoviz) (1.3.5)\r\n",
      "Requirement already satisfied: scikit-learn in /opt/conda/lib/python3.7/site-packages (from autoviz) (1.0.2)\r\n",
      "Requirement already satisfied: textblob in /opt/conda/lib/python3.7/site-packages (from autoviz) (0.17.1)\r\n",
      "Collecting hvplot>=0.7.3\r\n",
      "  Downloading hvplot-0.8.1-py2.py3-none-any.whl (3.2 MB)\r\n",
      "\u001b[2K     \u001b[90m━━━━━━━━━━━━━━━━━━━━━━━━━━━━━━━━━━━━━━━━\u001b[0m \u001b[32m3.2/3.2 MB\u001b[0m \u001b[31m36.3 MB/s\u001b[0m eta \u001b[36m0:00:00\u001b[0m\r\n",
      "\u001b[?25hRequirement already satisfied: nltk in /opt/conda/lib/python3.7/site-packages (from autoviz) (3.7)\r\n",
      "Requirement already satisfied: ipython in /opt/conda/lib/python3.7/site-packages (from autoviz) (7.33.0)\r\n",
      "Collecting panel~=0.12.6\r\n",
      "  Downloading panel-0.12.7-py2.py3-none-any.whl (12.9 MB)\r\n",
      "\u001b[2K     \u001b[90m━━━━━━━━━━━━━━━━━━━━━━━━━━━━━━━━━━━━━━━━\u001b[0m \u001b[32m12.9/12.9 MB\u001b[0m \u001b[31m61.6 MB/s\u001b[0m eta \u001b[36m0:00:00\u001b[0m\r\n",
      "\u001b[?25hRequirement already satisfied: statsmodels in /opt/conda/lib/python3.7/site-packages (from autoviz) (0.13.2)\r\n",
      "Requirement already satisfied: holoviews>=1.14.6 in /opt/conda/lib/python3.7/site-packages (from autoviz) (1.15.0)\r\n",
      "Requirement already satisfied: matplotlib>=3.3.3 in /opt/conda/lib/python3.7/site-packages (from autoviz) (3.5.3)\r\n",
      "Collecting xlrd\r\n",
      "  Downloading xlrd-2.0.1-py2.py3-none-any.whl (96 kB)\r\n",
      "\u001b[2K     \u001b[90m━━━━━━━━━━━━━━━━━━━━━━━━━━━━━━━━━━━━━━━━\u001b[0m \u001b[32m96.5/96.5 kB\u001b[0m \u001b[31m6.9 MB/s\u001b[0m eta \u001b[36m0:00:00\u001b[0m\r\n",
      "\u001b[?25hRequirement already satisfied: fsspec>=0.8.3 in /opt/conda/lib/python3.7/site-packages (from autoviz) (2022.7.1)\r\n",
      "Collecting pyamg\r\n",
      "  Downloading pyamg-4.2.3-cp37-cp37m-manylinux_2_12_x86_64.manylinux2010_x86_64.whl (1.7 MB)\r\n",
      "\u001b[2K     \u001b[90m━━━━━━━━━━━━━━━━━━━━━━━━━━━━━━━━━━━━━━━━\u001b[0m \u001b[32m1.7/1.7 MB\u001b[0m \u001b[31m50.8 MB/s\u001b[0m eta \u001b[36m0:00:00\u001b[0m\r\n",
      "\u001b[?25hRequirement already satisfied: wordcloud in /opt/conda/lib/python3.7/site-packages (from autoviz) (1.8.2.2)\r\n",
      "Requirement already satisfied: typing-extensions>=4.1.1 in /opt/conda/lib/python3.7/site-packages (from autoviz) (4.3.0)\r\n",
      "Requirement already satisfied: jupyter in /opt/conda/lib/python3.7/site-packages (from autoviz) (1.0.0)\r\n",
      "Requirement already satisfied: xgboost>=0.82 in /opt/conda/lib/python3.7/site-packages (from autoviz) (1.6.1)\r\n",
      "Requirement already satisfied: PyYAML>=3.10 in /opt/conda/lib/python3.7/site-packages (from bokeh>=2.4.2->autoviz) (6.0)\r\n",
      "Requirement already satisfied: packaging>=16.8 in /opt/conda/lib/python3.7/site-packages (from bokeh>=2.4.2->autoviz) (21.3)\r\n",
      "Requirement already satisfied: Jinja2>=2.9 in /opt/conda/lib/python3.7/site-packages (from bokeh>=2.4.2->autoviz) (3.1.2)\r\n",
      "Requirement already satisfied: pillow>=7.1.0 in /opt/conda/lib/python3.7/site-packages (from bokeh>=2.4.2->autoviz) (9.1.1)\r\n",
      "Requirement already satisfied: tornado>=5.1 in /opt/conda/lib/python3.7/site-packages (from bokeh>=2.4.2->autoviz) (6.1)\r\n",
      "Collecting holoviews>=1.14.6\r\n",
      "  Downloading holoviews-1.14.9-py2.py3-none-any.whl (4.3 MB)\r\n",
      "\u001b[2K     \u001b[90m━━━━━━━━━━━━━━━━━━━━━━━━━━━━━━━━━━━━━━━━\u001b[0m \u001b[32m4.3/4.3 MB\u001b[0m \u001b[31m65.7 MB/s\u001b[0m eta \u001b[36m0:00:00\u001b[0m\r\n",
      "\u001b[?25hRequirement already satisfied: pyviz-comms>=0.7.4 in /opt/conda/lib/python3.7/site-packages (from holoviews>=1.14.6->autoviz) (2.2.1)\r\n",
      "Requirement already satisfied: param<2.0,>=1.9.3 in /opt/conda/lib/python3.7/site-packages (from holoviews>=1.14.6->autoviz) (1.12.2)\r\n",
      "Requirement already satisfied: colorcet in /opt/conda/lib/python3.7/site-packages (from holoviews>=1.14.6->autoviz) (3.0.0)\r\n",
      "Requirement already satisfied: kiwisolver>=1.0.1 in /opt/conda/lib/python3.7/site-packages (from matplotlib>=3.3.3->autoviz) (1.4.3)\r\n",
      "Requirement already satisfied: pyparsing>=2.2.1 in /opt/conda/lib/python3.7/site-packages (from matplotlib>=3.3.3->autoviz) (3.0.9)\r\n",
      "Requirement already satisfied: python-dateutil>=2.7 in /opt/conda/lib/python3.7/site-packages (from matplotlib>=3.3.3->autoviz) (2.8.2)\r\n",
      "Requirement already satisfied: cycler>=0.10 in /opt/conda/lib/python3.7/site-packages (from matplotlib>=3.3.3->autoviz) (0.11.0)\r\n",
      "Requirement already satisfied: fonttools>=4.22.0 in /opt/conda/lib/python3.7/site-packages (from matplotlib>=3.3.3->autoviz) (4.33.3)\r\n",
      "Requirement already satisfied: pytz>=2017.3 in /opt/conda/lib/python3.7/site-packages (from pandas->autoviz) (2022.1)\r\n",
      "Requirement already satisfied: markdown in /opt/conda/lib/python3.7/site-packages (from panel~=0.12.6->autoviz) (3.3.7)\r\n",
      "Requirement already satisfied: setuptools<61,>=42 in /opt/conda/lib/python3.7/site-packages (from panel~=0.12.6->autoviz) (59.8.0)\r\n",
      "Requirement already satisfied: tqdm>=4.48.0 in /opt/conda/lib/python3.7/site-packages (from panel~=0.12.6->autoviz) (4.64.0)\r\n",
      "Requirement already satisfied: bleach in /opt/conda/lib/python3.7/site-packages (from panel~=0.12.6->autoviz) (5.0.1)\r\n",
      "Requirement already satisfied: requests in /opt/conda/lib/python3.7/site-packages (from panel~=0.12.6->autoviz) (2.28.1)\r\n",
      "Requirement already satisfied: pyct>=0.4.4 in /opt/conda/lib/python3.7/site-packages (from panel~=0.12.6->autoviz) (0.4.8)\r\n",
      "Requirement already satisfied: scipy>=1.0 in /opt/conda/lib/python3.7/site-packages (from seaborn>=0.11.1->autoviz) (1.7.3)\r\n",
      "Requirement already satisfied: pexpect>4.3 in /opt/conda/lib/python3.7/site-packages (from ipython->autoviz) (4.8.0)\r\n",
      "Requirement already satisfied: jedi>=0.16 in /opt/conda/lib/python3.7/site-packages (from ipython->autoviz) (0.18.1)\r\n",
      "Requirement already satisfied: pygments in /opt/conda/lib/python3.7/site-packages (from ipython->autoviz) (2.12.0)\r\n",
      "Requirement already satisfied: backcall in /opt/conda/lib/python3.7/site-packages (from ipython->autoviz) (0.2.0)\r\n",
      "Requirement already satisfied: decorator in /opt/conda/lib/python3.7/site-packages (from ipython->autoviz) (5.1.1)\r\n",
      "Requirement already satisfied: prompt-toolkit!=3.0.0,!=3.0.1,<3.1.0,>=2.0.0 in /opt/conda/lib/python3.7/site-packages (from ipython->autoviz) (3.0.30)\r\n",
      "Requirement already satisfied: traitlets>=4.2 in /opt/conda/lib/python3.7/site-packages (from ipython->autoviz) (5.3.0)\r\n",
      "Requirement already satisfied: pickleshare in /opt/conda/lib/python3.7/site-packages (from ipython->autoviz) (0.7.5)\r\n",
      "Requirement already satisfied: matplotlib-inline in /opt/conda/lib/python3.7/site-packages (from ipython->autoviz) (0.1.3)\r\n",
      "Requirement already satisfied: nbconvert in /opt/conda/lib/python3.7/site-packages (from jupyter->autoviz) (6.4.5)\r\n",
      "Requirement already satisfied: qtconsole in /opt/conda/lib/python3.7/site-packages (from jupyter->autoviz) (5.3.1)\r\n",
      "Requirement already satisfied: ipywidgets in /opt/conda/lib/python3.7/site-packages (from jupyter->autoviz) (7.7.1)\r\n",
      "Requirement already satisfied: jupyter-console in /opt/conda/lib/python3.7/site-packages (from jupyter->autoviz) (6.4.4)\r\n",
      "Requirement already satisfied: ipykernel in /opt/conda/lib/python3.7/site-packages (from jupyter->autoviz) (6.15.0)\r\n",
      "Requirement already satisfied: notebook in /opt/conda/lib/python3.7/site-packages (from jupyter->autoviz) (6.4.12)\r\n",
      "Requirement already satisfied: joblib in /opt/conda/lib/python3.7/site-packages (from nltk->autoviz) (1.0.1)\r\n",
      "Requirement already satisfied: regex>=2021.8.3 in /opt/conda/lib/python3.7/site-packages (from nltk->autoviz) (2021.11.10)\r\n",
      "Requirement already satisfied: click in /opt/conda/lib/python3.7/site-packages (from nltk->autoviz) (8.0.4)\r\n",
      "Requirement already satisfied: threadpoolctl>=2.0.0 in /opt/conda/lib/python3.7/site-packages (from scikit-learn->autoviz) (3.1.0)\r\n",
      "Requirement already satisfied: patsy>=0.5.2 in /opt/conda/lib/python3.7/site-packages (from statsmodels->autoviz) (0.5.2)\r\n",
      "Requirement already satisfied: parso<0.9.0,>=0.8.0 in /opt/conda/lib/python3.7/site-packages (from jedi>=0.16->ipython->autoviz) (0.8.3)\r\n",
      "Requirement already satisfied: MarkupSafe>=2.0 in /opt/conda/lib/python3.7/site-packages (from Jinja2>=2.9->bokeh>=2.4.2->autoviz) (2.1.1)\r\n",
      "Requirement already satisfied: six in /opt/conda/lib/python3.7/site-packages (from patsy>=0.5.2->statsmodels->autoviz) (1.15.0)\r\n",
      "Requirement already satisfied: ptyprocess>=0.5 in /opt/conda/lib/python3.7/site-packages (from pexpect>4.3->ipython->autoviz) (0.7.0)\r\n",
      "Requirement already satisfied: wcwidth in /opt/conda/lib/python3.7/site-packages (from prompt-toolkit!=3.0.0,!=3.0.1,<3.1.0,>=2.0.0->ipython->autoviz) (0.2.5)\r\n",
      "Requirement already satisfied: webencodings in /opt/conda/lib/python3.7/site-packages (from bleach->panel~=0.12.6->autoviz) (0.5.1)\r\n",
      "Requirement already satisfied: importlib-metadata in /opt/conda/lib/python3.7/site-packages (from click->nltk->autoviz) (4.12.0)\r\n",
      "Requirement already satisfied: debugpy>=1.0 in /opt/conda/lib/python3.7/site-packages (from ipykernel->jupyter->autoviz) (1.6.0)\r\n",
      "Requirement already satisfied: nest-asyncio in /opt/conda/lib/python3.7/site-packages (from ipykernel->jupyter->autoviz) (1.5.5)\r\n",
      "Requirement already satisfied: psutil in /opt/conda/lib/python3.7/site-packages (from ipykernel->jupyter->autoviz) (5.9.1)\r\n",
      "Requirement already satisfied: jupyter-client>=6.1.12 in /opt/conda/lib/python3.7/site-packages (from ipykernel->jupyter->autoviz) (7.3.4)\r\n",
      "Requirement already satisfied: pyzmq>=17 in /opt/conda/lib/python3.7/site-packages (from ipykernel->jupyter->autoviz) (23.2.0)\r\n",
      "Requirement already satisfied: jupyterlab-widgets>=1.0.0 in /opt/conda/lib/python3.7/site-packages (from ipywidgets->jupyter->autoviz) (1.1.1)\r\n",
      "Requirement already satisfied: widgetsnbextension~=3.6.0 in /opt/conda/lib/python3.7/site-packages (from ipywidgets->jupyter->autoviz) (3.6.1)\r\n",
      "Requirement already satisfied: ipython-genutils~=0.2.0 in /opt/conda/lib/python3.7/site-packages (from ipywidgets->jupyter->autoviz) (0.2.0)\r\n",
      "Requirement already satisfied: testpath in /opt/conda/lib/python3.7/site-packages (from nbconvert->jupyter->autoviz) (0.6.0)\r\n",
      "Requirement already satisfied: mistune<2,>=0.8.1 in /opt/conda/lib/python3.7/site-packages (from nbconvert->jupyter->autoviz) (0.8.4)\r\n",
      "Requirement already satisfied: nbformat>=4.4 in /opt/conda/lib/python3.7/site-packages (from nbconvert->jupyter->autoviz) (5.4.0)\r\n",
      "Requirement already satisfied: jupyterlab-pygments in /opt/conda/lib/python3.7/site-packages (from nbconvert->jupyter->autoviz) (0.2.2)\r\n",
      "Requirement already satisfied: entrypoints>=0.2.2 in /opt/conda/lib/python3.7/site-packages (from nbconvert->jupyter->autoviz) (0.4)\r\n",
      "Requirement already satisfied: defusedxml in /opt/conda/lib/python3.7/site-packages (from nbconvert->jupyter->autoviz) (0.7.1)\r\n",
      "Requirement already satisfied: beautifulsoup4 in /opt/conda/lib/python3.7/site-packages (from nbconvert->jupyter->autoviz) (4.11.1)\r\n",
      "Requirement already satisfied: nbclient<0.6.0,>=0.5.0 in /opt/conda/lib/python3.7/site-packages (from nbconvert->jupyter->autoviz) (0.5.13)\r\n",
      "Requirement already satisfied: pandocfilters>=1.4.1 in /opt/conda/lib/python3.7/site-packages (from nbconvert->jupyter->autoviz) (1.5.0)\r\n",
      "Requirement already satisfied: jupyter-core in /opt/conda/lib/python3.7/site-packages (from nbconvert->jupyter->autoviz) (4.10.0)\r\n",
      "Requirement already satisfied: Send2Trash>=1.8.0 in /opt/conda/lib/python3.7/site-packages (from notebook->jupyter->autoviz) (1.8.0)\r\n",
      "Requirement already satisfied: terminado>=0.8.3 in /opt/conda/lib/python3.7/site-packages (from notebook->jupyter->autoviz) (0.15.0)\r\n",
      "Requirement already satisfied: argon2-cffi in /opt/conda/lib/python3.7/site-packages (from notebook->jupyter->autoviz) (21.3.0)\r\n",
      "Requirement already satisfied: prometheus-client in /opt/conda/lib/python3.7/site-packages (from notebook->jupyter->autoviz) (0.14.1)\r\n",
      "Requirement already satisfied: qtpy>=2.0.1 in /opt/conda/lib/python3.7/site-packages (from qtconsole->jupyter->autoviz) (2.1.0)\r\n",
      "Requirement already satisfied: urllib3<1.27,>=1.21.1 in /opt/conda/lib/python3.7/site-packages (from requests->panel~=0.12.6->autoviz) (1.26.11)\r\n",
      "Requirement already satisfied: certifi>=2017.4.17 in /opt/conda/lib/python3.7/site-packages (from requests->panel~=0.12.6->autoviz) (2022.6.15)\r\n",
      "Requirement already satisfied: charset-normalizer<3,>=2 in /opt/conda/lib/python3.7/site-packages (from requests->panel~=0.12.6->autoviz) (2.1.0)\r\n",
      "Requirement already satisfied: idna<4,>=2.5 in /opt/conda/lib/python3.7/site-packages (from requests->panel~=0.12.6->autoviz) (3.3)\r\n",
      "Requirement already satisfied: zipp>=0.5 in /opt/conda/lib/python3.7/site-packages (from importlib-metadata->click->nltk->autoviz) (3.8.0)\r\n",
      "Requirement already satisfied: fastjsonschema in /opt/conda/lib/python3.7/site-packages (from nbformat>=4.4->nbconvert->jupyter->autoviz) (2.15.3)\r\n",
      "Requirement already satisfied: jsonschema>=2.6 in /opt/conda/lib/python3.7/site-packages (from nbformat>=4.4->nbconvert->jupyter->autoviz) (4.6.1)\r\n",
      "Requirement already satisfied: argon2-cffi-bindings in /opt/conda/lib/python3.7/site-packages (from argon2-cffi->notebook->jupyter->autoviz) (21.2.0)\r\n",
      "Requirement already satisfied: soupsieve>1.2 in /opt/conda/lib/python3.7/site-packages (from beautifulsoup4->nbconvert->jupyter->autoviz) (2.3.1)\r\n",
      "Requirement already satisfied: pyrsistent!=0.17.0,!=0.17.1,!=0.17.2,>=0.14.0 in /opt/conda/lib/python3.7/site-packages (from jsonschema>=2.6->nbformat>=4.4->nbconvert->jupyter->autoviz) (0.18.1)\r\n",
      "Requirement already satisfied: importlib-resources>=1.4.0 in /opt/conda/lib/python3.7/site-packages (from jsonschema>=2.6->nbformat>=4.4->nbconvert->jupyter->autoviz) (5.8.0)\r\n",
      "Requirement already satisfied: attrs>=17.4.0 in /opt/conda/lib/python3.7/site-packages (from jsonschema>=2.6->nbformat>=4.4->nbconvert->jupyter->autoviz) (21.4.0)\r\n",
      "Requirement already satisfied: cffi>=1.0.1 in /opt/conda/lib/python3.7/site-packages (from argon2-cffi-bindings->argon2-cffi->notebook->jupyter->autoviz) (1.15.0)\r\n",
      "Requirement already satisfied: pycparser in /opt/conda/lib/python3.7/site-packages (from cffi>=1.0.1->argon2-cffi-bindings->argon2-cffi->notebook->jupyter->autoviz) (2.21)\r\n",
      "Installing collected packages: xlrd, pyamg, panel, holoviews, hvplot, autoviz\r\n",
      "  Attempting uninstall: panel\r\n",
      "    Found existing installation: panel 0.13.1\r\n",
      "    Uninstalling panel-0.13.1:\r\n",
      "      Successfully uninstalled panel-0.13.1\r\n",
      "  Attempting uninstall: holoviews\r\n",
      "    Found existing installation: holoviews 1.15.0\r\n",
      "    Uninstalling holoviews-1.15.0:\r\n",
      "      Successfully uninstalled holoviews-1.15.0\r\n",
      "Successfully installed autoviz-0.1.44 holoviews-1.14.9 hvplot-0.8.1 panel-0.12.7 pyamg-4.2.3 xlrd-2.0.1\r\n",
      "\u001b[33mWARNING: Running pip as the 'root' user can result in broken permissions and conflicting behaviour with the system package manager. It is recommended to use a virtual environment instead: https://pip.pypa.io/warnings/venv\u001b[0m\u001b[33m\r\n",
      "\u001b[0m/kaggle/input/tabular-playground-series-sep-2022/sample_submission.csv\n",
      "/kaggle/input/tabular-playground-series-sep-2022/train.csv\n",
      "/kaggle/input/tabular-playground-series-sep-2022/test.csv\n"
     ]
    }
   ],
   "source": [
    "# This Python 3 environment comes with many helpful analytics libraries installed\n",
    "# It is defined by the kaggle/python Docker image: https://github.com/kaggle/docker-python\n",
    "# For example, here's several helpful packages to load\n",
    "\n",
    "import numpy as np # linear algebra\n",
    "import pandas as pd # data processing, CSV file I/O (e.g. pd.read_csv)\n",
    "from tqdm.notebook import tqdm\n",
    "import seaborn as sns\n",
    "import matplotlib.pyplot as plt\n",
    "import datetime as dt\n",
    "\n",
    "!pip install flaml\n",
    "!pip install autoviz\n",
    "# Input data files are available in the read-only \"../input/\" directory\n",
    "# For example, running this (by clicking run or pressing Shift+Enter) will list all files under the input directory\n",
    "\n",
    "import os\n",
    "for dirname, _, filenames in os.walk('/kaggle/input'):\n",
    "    for filename in filenames:\n",
    "        print(os.path.join(dirname, filename))\n",
    "\n",
    "# You can write up to 20GB to the current directory (/kaggle/working/) that gets preserved as output when you create a version using \"Save & Run All\" \n",
    "# You can also write temporary files to /kaggle/temp/, but they won't be saved outside of the current session"
   ]
  },
  {
   "cell_type": "code",
   "execution_count": 2,
   "id": "3d1513c0",
   "metadata": {
    "execution": {
     "iopub.execute_input": "2022-09-05T05:41:06.258451Z",
     "iopub.status.busy": "2022-09-05T05:41:06.257681Z",
     "iopub.status.idle": "2022-09-05T05:41:06.432629Z",
     "shell.execute_reply": "2022-09-05T05:41:06.431646Z"
    },
    "papermill": {
     "duration": 0.19683,
     "end_time": "2022-09-05T05:41:06.436056",
     "exception": false,
     "start_time": "2022-09-05T05:41:06.239226",
     "status": "completed"
    },
    "tags": []
   },
   "outputs": [],
   "source": [
    "train=pd.read_csv('../input/tabular-playground-series-sep-2022/train.csv')\n",
    "test=pd.read_csv('../input/tabular-playground-series-sep-2022/test.csv')\n",
    "sample=pd.read_csv('../input/tabular-playground-series-sep-2022/sample_submission.csv')"
   ]
  },
  {
   "cell_type": "code",
   "execution_count": 3,
   "id": "9c243a59",
   "metadata": {
    "execution": {
     "iopub.execute_input": "2022-09-05T05:41:06.471923Z",
     "iopub.status.busy": "2022-09-05T05:41:06.471281Z",
     "iopub.status.idle": "2022-09-05T05:41:06.511545Z",
     "shell.execute_reply": "2022-09-05T05:41:06.510714Z"
    },
    "papermill": {
     "duration": 0.058672,
     "end_time": "2022-09-05T05:41:06.514926",
     "exception": false,
     "start_time": "2022-09-05T05:41:06.456254",
     "status": "completed"
    },
    "tags": []
   },
   "outputs": [
    {
     "name": "stdout",
     "output_type": "stream",
     "text": [
      "<class 'pandas.core.frame.DataFrame'>\n",
      "RangeIndex: 70128 entries, 0 to 70127\n",
      "Data columns (total 6 columns):\n",
      " #   Column    Non-Null Count  Dtype \n",
      "---  ------    --------------  ----- \n",
      " 0   row_id    70128 non-null  int64 \n",
      " 1   date      70128 non-null  object\n",
      " 2   country   70128 non-null  object\n",
      " 3   store     70128 non-null  object\n",
      " 4   product   70128 non-null  object\n",
      " 5   num_sold  70128 non-null  int64 \n",
      "dtypes: int64(2), object(4)\n",
      "memory usage: 3.2+ MB\n"
     ]
    }
   ],
   "source": [
    "train.info()"
   ]
  },
  {
   "cell_type": "code",
   "execution_count": 4,
   "id": "fc821408",
   "metadata": {
    "execution": {
     "iopub.execute_input": "2022-09-05T05:41:06.551977Z",
     "iopub.status.busy": "2022-09-05T05:41:06.551263Z",
     "iopub.status.idle": "2022-09-05T05:41:06.567465Z",
     "shell.execute_reply": "2022-09-05T05:41:06.566165Z"
    },
    "papermill": {
     "duration": 0.033971,
     "end_time": "2022-09-05T05:41:06.570219",
     "exception": false,
     "start_time": "2022-09-05T05:41:06.536248",
     "status": "completed"
    },
    "tags": []
   },
   "outputs": [
    {
     "name": "stdout",
     "output_type": "stream",
     "text": [
      "<class 'pandas.core.frame.DataFrame'>\n",
      "RangeIndex: 17520 entries, 0 to 17519\n",
      "Data columns (total 5 columns):\n",
      " #   Column   Non-Null Count  Dtype \n",
      "---  ------   --------------  ----- \n",
      " 0   row_id   17520 non-null  int64 \n",
      " 1   date     17520 non-null  object\n",
      " 2   country  17520 non-null  object\n",
      " 3   store    17520 non-null  object\n",
      " 4   product  17520 non-null  object\n",
      "dtypes: int64(1), object(4)\n",
      "memory usage: 684.5+ KB\n"
     ]
    }
   ],
   "source": [
    "test.info()"
   ]
  },
  {
   "cell_type": "code",
   "execution_count": 5,
   "id": "ffecac73",
   "metadata": {
    "execution": {
     "iopub.execute_input": "2022-09-05T05:41:06.599288Z",
     "iopub.status.busy": "2022-09-05T05:41:06.598626Z",
     "iopub.status.idle": "2022-09-05T05:41:06.612848Z",
     "shell.execute_reply": "2022-09-05T05:41:06.611913Z"
    },
    "papermill": {
     "duration": 0.031478,
     "end_time": "2022-09-05T05:41:06.615314",
     "exception": false,
     "start_time": "2022-09-05T05:41:06.583836",
     "status": "completed"
    },
    "tags": []
   },
   "outputs": [],
   "source": [
    "train.drop('row_id',axis=1,inplace=True)\n",
    "test.drop('row_id',axis=1,inplace=True)"
   ]
  },
  {
   "cell_type": "code",
   "execution_count": 6,
   "id": "b266da36",
   "metadata": {
    "execution": {
     "iopub.execute_input": "2022-09-05T05:41:06.643978Z",
     "iopub.status.busy": "2022-09-05T05:41:06.643266Z",
     "iopub.status.idle": "2022-09-05T05:41:06.657855Z",
     "shell.execute_reply": "2022-09-05T05:41:06.656812Z"
    },
    "papermill": {
     "duration": 0.032181,
     "end_time": "2022-09-05T05:41:06.660695",
     "exception": false,
     "start_time": "2022-09-05T05:41:06.628514",
     "status": "completed"
    },
    "tags": []
   },
   "outputs": [
    {
     "data": {
      "text/plain": [
       "array(['Belgium', 'France', 'Germany', 'Italy', 'Poland', 'Spain'],\n",
       "      dtype=object)"
      ]
     },
     "execution_count": 6,
     "metadata": {},
     "output_type": "execute_result"
    }
   ],
   "source": [
    "train.country.unique()"
   ]
  },
  {
   "cell_type": "code",
   "execution_count": 7,
   "id": "4b5a83d9",
   "metadata": {
    "execution": {
     "iopub.execute_input": "2022-09-05T05:41:06.692437Z",
     "iopub.status.busy": "2022-09-05T05:41:06.692026Z",
     "iopub.status.idle": "2022-09-05T05:41:06.724194Z",
     "shell.execute_reply": "2022-09-05T05:41:06.723348Z"
    },
    "papermill": {
     "duration": 0.050127,
     "end_time": "2022-09-05T05:41:06.727338",
     "exception": false,
     "start_time": "2022-09-05T05:41:06.677211",
     "status": "completed"
    },
    "tags": []
   },
   "outputs": [
    {
     "data": {
      "text/plain": [
       "date        1461\n",
       "country        6\n",
       "store          2\n",
       "product        4\n",
       "num_sold     699\n",
       "dtype: int64"
      ]
     },
     "execution_count": 7,
     "metadata": {},
     "output_type": "execute_result"
    }
   ],
   "source": [
    "train.nunique()"
   ]
  },
  {
   "cell_type": "code",
   "execution_count": 8,
   "id": "cc3b55c4",
   "metadata": {
    "execution": {
     "iopub.execute_input": "2022-09-05T05:41:06.761063Z",
     "iopub.status.busy": "2022-09-05T05:41:06.760573Z",
     "iopub.status.idle": "2022-09-05T05:41:06.789884Z",
     "shell.execute_reply": "2022-09-05T05:41:06.788957Z"
    },
    "papermill": {
     "duration": 0.047426,
     "end_time": "2022-09-05T05:41:06.792740",
     "exception": false,
     "start_time": "2022-09-05T05:41:06.745314",
     "status": "completed"
    },
    "tags": []
   },
   "outputs": [
    {
     "data": {
      "text/html": [
       "<div>\n",
       "<style scoped>\n",
       "    .dataframe tbody tr th:only-of-type {\n",
       "        vertical-align: middle;\n",
       "    }\n",
       "\n",
       "    .dataframe tbody tr th {\n",
       "        vertical-align: top;\n",
       "    }\n",
       "\n",
       "    .dataframe thead th {\n",
       "        text-align: right;\n",
       "    }\n",
       "</style>\n",
       "<table border=\"1\" class=\"dataframe\">\n",
       "  <thead>\n",
       "    <tr style=\"text-align: right;\">\n",
       "      <th></th>\n",
       "      <th>num_sold</th>\n",
       "    </tr>\n",
       "    <tr>\n",
       "      <th>country</th>\n",
       "      <th></th>\n",
       "    </tr>\n",
       "  </thead>\n",
       "  <tbody>\n",
       "    <tr>\n",
       "      <th>Poland</th>\n",
       "      <td>114.779689</td>\n",
       "    </tr>\n",
       "    <tr>\n",
       "      <th>Spain</th>\n",
       "      <td>171.392710</td>\n",
       "    </tr>\n",
       "    <tr>\n",
       "      <th>Italy</th>\n",
       "      <td>188.320671</td>\n",
       "    </tr>\n",
       "    <tr>\n",
       "      <th>France</th>\n",
       "      <td>214.948580</td>\n",
       "    </tr>\n",
       "    <tr>\n",
       "      <th>Belgium</th>\n",
       "      <td>237.940623</td>\n",
       "    </tr>\n",
       "    <tr>\n",
       "      <th>Germany</th>\n",
       "      <td>238.399641</td>\n",
       "    </tr>\n",
       "  </tbody>\n",
       "</table>\n",
       "</div>"
      ],
      "text/plain": [
       "           num_sold\n",
       "country            \n",
       "Poland   114.779689\n",
       "Spain    171.392710\n",
       "Italy    188.320671\n",
       "France   214.948580\n",
       "Belgium  237.940623\n",
       "Germany  238.399641"
      ]
     },
     "execution_count": 8,
     "metadata": {},
     "output_type": "execute_result"
    }
   ],
   "source": [
    "train.groupby('country').mean().sort_values('num_sold')"
   ]
  },
  {
   "cell_type": "code",
   "execution_count": 9,
   "id": "df32c491",
   "metadata": {
    "execution": {
     "iopub.execute_input": "2022-09-05T05:41:06.826134Z",
     "iopub.status.busy": "2022-09-05T05:41:06.825752Z",
     "iopub.status.idle": "2022-09-05T05:41:06.837810Z",
     "shell.execute_reply": "2022-09-05T05:41:06.836628Z"
    },
    "papermill": {
     "duration": 0.02985,
     "end_time": "2022-09-05T05:41:06.840642",
     "exception": false,
     "start_time": "2022-09-05T05:41:06.810792",
     "status": "completed"
    },
    "tags": []
   },
   "outputs": [
    {
     "data": {
      "text/plain": [
       "array(['KaggleMart', 'KaggleRama'], dtype=object)"
      ]
     },
     "execution_count": 9,
     "metadata": {},
     "output_type": "execute_result"
    }
   ],
   "source": [
    "train.store.unique()"
   ]
  },
  {
   "cell_type": "code",
   "execution_count": 10,
   "id": "664359a7",
   "metadata": {
    "execution": {
     "iopub.execute_input": "2022-09-05T05:41:06.875895Z",
     "iopub.status.busy": "2022-09-05T05:41:06.875065Z",
     "iopub.status.idle": "2022-09-05T05:41:06.880943Z",
     "shell.execute_reply": "2022-09-05T05:41:06.880138Z"
    },
    "papermill": {
     "duration": 0.024352,
     "end_time": "2022-09-05T05:41:06.883228",
     "exception": false,
     "start_time": "2022-09-05T05:41:06.858876",
     "status": "completed"
    },
    "tags": []
   },
   "outputs": [],
   "source": [
    "cat_cols=[c for c in train.columns if train[c].dtype in ['object']]"
   ]
  },
  {
   "cell_type": "code",
   "execution_count": 11,
   "id": "0e00d266",
   "metadata": {
    "execution": {
     "iopub.execute_input": "2022-09-05T05:41:06.912981Z",
     "iopub.status.busy": "2022-09-05T05:41:06.912300Z",
     "iopub.status.idle": "2022-09-05T05:41:06.919251Z",
     "shell.execute_reply": "2022-09-05T05:41:06.918054Z"
    },
    "papermill": {
     "duration": 0.024743,
     "end_time": "2022-09-05T05:41:06.921757",
     "exception": false,
     "start_time": "2022-09-05T05:41:06.897014",
     "status": "completed"
    },
    "tags": []
   },
   "outputs": [
    {
     "data": {
      "text/plain": [
       "['date', 'country', 'store', 'product']"
      ]
     },
     "execution_count": 11,
     "metadata": {},
     "output_type": "execute_result"
    }
   ],
   "source": [
    "cat_cols"
   ]
  },
  {
   "cell_type": "code",
   "execution_count": 12,
   "id": "703b55b6",
   "metadata": {
    "execution": {
     "iopub.execute_input": "2022-09-05T05:41:06.955213Z",
     "iopub.status.busy": "2022-09-05T05:41:06.954488Z",
     "iopub.status.idle": "2022-09-05T05:41:06.967710Z",
     "shell.execute_reply": "2022-09-05T05:41:06.966628Z"
    },
    "papermill": {
     "duration": 0.032594,
     "end_time": "2022-09-05T05:41:06.970101",
     "exception": false,
     "start_time": "2022-09-05T05:41:06.937507",
     "status": "completed"
    },
    "tags": []
   },
   "outputs": [
    {
     "data": {
      "text/plain": [
       "Kaggle Advanced Techniques          17532\n",
       "Kaggle Getting Started              17532\n",
       "Kaggle Recipe Book                  17532\n",
       "Kaggle for Kids: One Smart Goose    17532\n",
       "Name: product, dtype: int64"
      ]
     },
     "execution_count": 12,
     "metadata": {},
     "output_type": "execute_result"
    }
   ],
   "source": [
    "train['product'].value_counts()"
   ]
  },
  {
   "cell_type": "code",
   "execution_count": 13,
   "id": "bbe47622",
   "metadata": {
    "execution": {
     "iopub.execute_input": "2022-09-05T05:41:07.001074Z",
     "iopub.status.busy": "2022-09-05T05:41:07.000066Z",
     "iopub.status.idle": "2022-09-05T05:41:07.012517Z",
     "shell.execute_reply": "2022-09-05T05:41:07.011378Z"
    },
    "papermill": {
     "duration": 0.030301,
     "end_time": "2022-09-05T05:41:07.014898",
     "exception": false,
     "start_time": "2022-09-05T05:41:06.984597",
     "status": "completed"
    },
    "tags": []
   },
   "outputs": [
    {
     "data": {
      "text/plain": [
       "Belgium    11688\n",
       "France     11688\n",
       "Germany    11688\n",
       "Italy      11688\n",
       "Poland     11688\n",
       "Spain      11688\n",
       "Name: country, dtype: int64"
      ]
     },
     "execution_count": 13,
     "metadata": {},
     "output_type": "execute_result"
    }
   ],
   "source": [
    "train['country'].value_counts()"
   ]
  },
  {
   "cell_type": "code",
   "execution_count": 14,
   "id": "e0a8df3f",
   "metadata": {
    "execution": {
     "iopub.execute_input": "2022-09-05T05:41:07.046357Z",
     "iopub.status.busy": "2022-09-05T05:41:07.045547Z",
     "iopub.status.idle": "2022-09-05T05:41:07.057687Z",
     "shell.execute_reply": "2022-09-05T05:41:07.056671Z"
    },
    "papermill": {
     "duration": 0.030359,
     "end_time": "2022-09-05T05:41:07.060025",
     "exception": false,
     "start_time": "2022-09-05T05:41:07.029666",
     "status": "completed"
    },
    "tags": []
   },
   "outputs": [
    {
     "data": {
      "text/plain": [
       "KaggleMart    35064\n",
       "KaggleRama    35064\n",
       "Name: store, dtype: int64"
      ]
     },
     "execution_count": 14,
     "metadata": {},
     "output_type": "execute_result"
    }
   ],
   "source": [
    "train['store'].value_counts()"
   ]
  },
  {
   "cell_type": "code",
   "execution_count": 15,
   "id": "33d7c446",
   "metadata": {
    "execution": {
     "iopub.execute_input": "2022-09-05T05:41:07.090841Z",
     "iopub.status.busy": "2022-09-05T05:41:07.090015Z",
     "iopub.status.idle": "2022-09-05T05:41:10.068094Z",
     "shell.execute_reply": "2022-09-05T05:41:10.067012Z"
    },
    "papermill": {
     "duration": 2.996455,
     "end_time": "2022-09-05T05:41:10.070663",
     "exception": false,
     "start_time": "2022-09-05T05:41:07.074208",
     "status": "completed"
    },
    "tags": []
   },
   "outputs": [
    {
     "data": {
      "image/png": "[encoded data removed]",
      "text/plain": [
       "<Figure size 1080x576 with 1 Axes>"
      ]
     },
     "metadata": {
      "needs_background": "light"
     },
     "output_type": "display_data"
    },
    {
     "name": "stdout",
     "output_type": "stream",
     "text": [
      "\n"
     ]
    },
    {
     "data": {
      "image/png": "[encoded data removed]",
      "text/plain": [
       "<Figure size 1080x504 with 1 Axes>"
      ]
     },
     "metadata": {
      "needs_background": "light"
     },
     "output_type": "display_data"
    }
   ],
   "source": [
    "plt.figure(figsize=(15,8))\n",
    "ax = sns.barplot(data=train, x='product', y='num_sold', hue='country',palette = 'terrain_r')\n",
    "plt.title(\"Number of Sales of product by Country\")\n",
    "plt.show()\n",
    "\n",
    "print()\n",
    "\n",
    "plt.figure(figsize= (15, 7))\n",
    "sns.barplot(x='num_sold', y='product', palette= 'pastel',data = train)\n",
    "plt.title('Number of sales by products')\n",
    "plt.show()"
   ]
  },
  {
   "cell_type": "code",
   "execution_count": 16,
   "id": "ae5aaa03",
   "metadata": {
    "execution": {
     "iopub.execute_input": "2022-09-05T05:41:10.103135Z",
     "iopub.status.busy": "2022-09-05T05:41:10.102739Z",
     "iopub.status.idle": "2022-09-05T05:41:10.167334Z",
     "shell.execute_reply": "2022-09-05T05:41:10.166356Z"
    },
    "papermill": {
     "duration": 0.084123,
     "end_time": "2022-09-05T05:41:10.170160",
     "exception": false,
     "start_time": "2022-09-05T05:41:10.086037",
     "status": "completed"
    },
    "tags": []
   },
   "outputs": [],
   "source": [
    "df_train=train.drop('date',axis=1)\n",
    "df_train['year'] = pd.DatetimeIndex(train['date']).year\n",
    "df_train['month'] = pd.DatetimeIndex(train['date']).month\n",
    "df_train['day'] = pd.DatetimeIndex(train['date']).day\n"
   ]
  },
  {
   "cell_type": "code",
   "execution_count": 17,
   "id": "c8b9cddb",
   "metadata": {
    "execution": {
     "iopub.execute_input": "2022-09-05T05:41:10.204118Z",
     "iopub.status.busy": "2022-09-05T05:41:10.203396Z",
     "iopub.status.idle": "2022-09-05T05:41:10.225815Z",
     "shell.execute_reply": "2022-09-05T05:41:10.224713Z"
    },
    "papermill": {
     "duration": 0.042155,
     "end_time": "2022-09-05T05:41:10.228270",
     "exception": false,
     "start_time": "2022-09-05T05:41:10.186115",
     "status": "completed"
    },
    "tags": []
   },
   "outputs": [],
   "source": [
    "df_test=test.drop('date',axis=1)\n",
    "df_test['year'] = pd.DatetimeIndex(test['date']).year\n",
    "df_test['month'] = pd.DatetimeIndex(test['date']).month\n",
    "df_test['day'] = pd.DatetimeIndex(test['date']).day\n"
   ]
  },
  {
   "cell_type": "code",
   "execution_count": 18,
   "id": "5c7cc070",
   "metadata": {
    "execution": {
     "iopub.execute_input": "2022-09-05T05:41:10.260326Z",
     "iopub.status.busy": "2022-09-05T05:41:10.259886Z",
     "iopub.status.idle": "2022-09-05T05:41:10.276605Z",
     "shell.execute_reply": "2022-09-05T05:41:10.275483Z"
    },
    "papermill": {
     "duration": 0.035572,
     "end_time": "2022-09-05T05:41:10.279035",
     "exception": false,
     "start_time": "2022-09-05T05:41:10.243463",
     "status": "completed"
    },
    "tags": []
   },
   "outputs": [
    {
     "data": {
      "text/html": [
       "<div>\n",
       "<style scoped>\n",
       "    .dataframe tbody tr th:only-of-type {\n",
       "        vertical-align: middle;\n",
       "    }\n",
       "\n",
       "    .dataframe tbody tr th {\n",
       "        vertical-align: top;\n",
       "    }\n",
       "\n",
       "    .dataframe thead th {\n",
       "        text-align: right;\n",
       "    }\n",
       "</style>\n",
       "<table border=\"1\" class=\"dataframe\">\n",
       "  <thead>\n",
       "    <tr style=\"text-align: right;\">\n",
       "      <th></th>\n",
       "      <th>country</th>\n",
       "      <th>store</th>\n",
       "      <th>product</th>\n",
       "      <th>num_sold</th>\n",
       "      <th>year</th>\n",
       "      <th>month</th>\n",
       "      <th>day</th>\n",
       "    </tr>\n",
       "  </thead>\n",
       "  <tbody>\n",
       "    <tr>\n",
       "      <th>0</th>\n",
       "      <td>Belgium</td>\n",
       "      <td>KaggleMart</td>\n",
       "      <td>Kaggle Advanced Techniques</td>\n",
       "      <td>663</td>\n",
       "      <td>2017</td>\n",
       "      <td>1</td>\n",
       "      <td>1</td>\n",
       "    </tr>\n",
       "    <tr>\n",
       "      <th>1</th>\n",
       "      <td>Belgium</td>\n",
       "      <td>KaggleMart</td>\n",
       "      <td>Kaggle Getting Started</td>\n",
       "      <td>615</td>\n",
       "      <td>2017</td>\n",
       "      <td>1</td>\n",
       "      <td>1</td>\n",
       "    </tr>\n",
       "    <tr>\n",
       "      <th>2</th>\n",
       "      <td>Belgium</td>\n",
       "      <td>KaggleMart</td>\n",
       "      <td>Kaggle Recipe Book</td>\n",
       "      <td>480</td>\n",
       "      <td>2017</td>\n",
       "      <td>1</td>\n",
       "      <td>1</td>\n",
       "    </tr>\n",
       "    <tr>\n",
       "      <th>3</th>\n",
       "      <td>Belgium</td>\n",
       "      <td>KaggleMart</td>\n",
       "      <td>Kaggle for Kids: One Smart Goose</td>\n",
       "      <td>710</td>\n",
       "      <td>2017</td>\n",
       "      <td>1</td>\n",
       "      <td>1</td>\n",
       "    </tr>\n",
       "    <tr>\n",
       "      <th>4</th>\n",
       "      <td>Belgium</td>\n",
       "      <td>KaggleRama</td>\n",
       "      <td>Kaggle Advanced Techniques</td>\n",
       "      <td>240</td>\n",
       "      <td>2017</td>\n",
       "      <td>1</td>\n",
       "      <td>1</td>\n",
       "    </tr>\n",
       "    <tr>\n",
       "      <th>...</th>\n",
       "      <td>...</td>\n",
       "      <td>...</td>\n",
       "      <td>...</td>\n",
       "      <td>...</td>\n",
       "      <td>...</td>\n",
       "      <td>...</td>\n",
       "      <td>...</td>\n",
       "    </tr>\n",
       "    <tr>\n",
       "      <th>70123</th>\n",
       "      <td>Spain</td>\n",
       "      <td>KaggleMart</td>\n",
       "      <td>Kaggle for Kids: One Smart Goose</td>\n",
       "      <td>614</td>\n",
       "      <td>2020</td>\n",
       "      <td>12</td>\n",
       "      <td>31</td>\n",
       "    </tr>\n",
       "    <tr>\n",
       "      <th>70124</th>\n",
       "      <td>Spain</td>\n",
       "      <td>KaggleRama</td>\n",
       "      <td>Kaggle Advanced Techniques</td>\n",
       "      <td>215</td>\n",
       "      <td>2020</td>\n",
       "      <td>12</td>\n",
       "      <td>31</td>\n",
       "    </tr>\n",
       "    <tr>\n",
       "      <th>70125</th>\n",
       "      <td>Spain</td>\n",
       "      <td>KaggleRama</td>\n",
       "      <td>Kaggle Getting Started</td>\n",
       "      <td>158</td>\n",
       "      <td>2020</td>\n",
       "      <td>12</td>\n",
       "      <td>31</td>\n",
       "    </tr>\n",
       "    <tr>\n",
       "      <th>70126</th>\n",
       "      <td>Spain</td>\n",
       "      <td>KaggleRama</td>\n",
       "      <td>Kaggle Recipe Book</td>\n",
       "      <td>135</td>\n",
       "      <td>2020</td>\n",
       "      <td>12</td>\n",
       "      <td>31</td>\n",
       "    </tr>\n",
       "    <tr>\n",
       "      <th>70127</th>\n",
       "      <td>Spain</td>\n",
       "      <td>KaggleRama</td>\n",
       "      <td>Kaggle for Kids: One Smart Goose</td>\n",
       "      <td>202</td>\n",
       "      <td>2020</td>\n",
       "      <td>12</td>\n",
       "      <td>31</td>\n",
       "    </tr>\n",
       "  </tbody>\n",
       "</table>\n",
       "<p>70128 rows × 7 columns</p>\n",
       "</div>"
      ],
      "text/plain": [
       "       country       store                           product  num_sold  year  \\\n",
       "0      Belgium  KaggleMart        Kaggle Advanced Techniques       663  2017   \n",
       "1      Belgium  KaggleMart            Kaggle Getting Started       615  2017   \n",
       "2      Belgium  KaggleMart                Kaggle Recipe Book       480  2017   \n",
       "3      Belgium  KaggleMart  Kaggle for Kids: One Smart Goose       710  2017   \n",
       "4      Belgium  KaggleRama        Kaggle Advanced Techniques       240  2017   \n",
       "...        ...         ...                               ...       ...   ...   \n",
       "70123    Spain  KaggleMart  Kaggle for Kids: One Smart Goose       614  2020   \n",
       "70124    Spain  KaggleRama        Kaggle Advanced Techniques       215  2020   \n",
       "70125    Spain  KaggleRama            Kaggle Getting Started       158  2020   \n",
       "70126    Spain  KaggleRama                Kaggle Recipe Book       135  2020   \n",
       "70127    Spain  KaggleRama  Kaggle for Kids: One Smart Goose       202  2020   \n",
       "\n",
       "       month  day  \n",
       "0          1    1  \n",
       "1          1    1  \n",
       "2          1    1  \n",
       "3          1    1  \n",
       "4          1    1  \n",
       "...      ...  ...  \n",
       "70123     12   31  \n",
       "70124     12   31  \n",
       "70125     12   31  \n",
       "70126     12   31  \n",
       "70127     12   31  \n",
       "\n",
       "[70128 rows x 7 columns]"
      ]
     },
     "execution_count": 18,
     "metadata": {},
     "output_type": "execute_result"
    }
   ],
   "source": [
    "df_train"
   ]
  },
  {
   "cell_type": "code",
   "execution_count": 19,
   "id": "3a1cf453",
   "metadata": {
    "execution": {
     "iopub.execute_input": "2022-09-05T05:41:10.311998Z",
     "iopub.status.busy": "2022-09-05T05:41:10.311576Z",
     "iopub.status.idle": "2022-09-05T05:41:10.317832Z",
     "shell.execute_reply": "2022-09-05T05:41:10.317006Z"
    },
    "papermill": {
     "duration": 0.02521,
     "end_time": "2022-09-05T05:41:10.319833",
     "exception": false,
     "start_time": "2022-09-05T05:41:10.294623",
     "status": "completed"
    },
    "tags": []
   },
   "outputs": [],
   "source": [
    "def target_encoding(data, column, target):\n",
    "    \n",
    "    grouped = data[[column,target]].groupby(column,as_index=False).mean()\n",
    "    empty_dict = {}\n",
    "    for i in range(len(grouped)):\n",
    "        empty_dict[grouped.iloc[i,0]]=grouped.iloc[i,1]\n",
    "    data[column]=data[column].map(lambda x: empty_dict[x])\n",
    "    \n",
    "    return data"
   ]
  },
  {
   "cell_type": "code",
   "execution_count": 20,
   "id": "5f2372bf",
   "metadata": {
    "execution": {
     "iopub.execute_input": "2022-09-05T05:41:10.354170Z",
     "iopub.status.busy": "2022-09-05T05:41:10.353146Z",
     "iopub.status.idle": "2022-09-05T05:41:10.988982Z",
     "shell.execute_reply": "2022-09-05T05:41:10.984134Z"
    },
    "papermill": {
     "duration": 0.65715,
     "end_time": "2022-09-05T05:41:10.993035",
     "exception": false,
     "start_time": "2022-09-05T05:41:10.335885",
     "status": "completed"
    },
    "tags": []
   },
   "outputs": [
    {
     "name": "stderr",
     "output_type": "stream",
     "text": [
      "/opt/conda/lib/python3.7/site-packages/category_encoders/target_encoder.py:94: FutureWarning: Default parameter min_samples_leaf will change in version 2.6.See https://github.com/scikit-learn-contrib/category_encoders/issues/327\n",
      "  category=FutureWarning)\n",
      "/opt/conda/lib/python3.7/site-packages/category_encoders/target_encoder.py:99: FutureWarning: Default parameter smoothing will change in version 2.6.See https://github.com/scikit-learn-contrib/category_encoders/issues/327\n",
      "  category=FutureWarning)\n"
     ]
    }
   ],
   "source": [
    "from category_encoders import TargetEncoder\n",
    "\n",
    "for col in df_train.select_dtypes(include='O').columns:\n",
    "    te=TargetEncoder()\n",
    "    df_train[col]=te.fit_transform(df_train[col],df_train.num_sold)"
   ]
  },
  {
   "cell_type": "code",
   "execution_count": 21,
   "id": "c13a1f1e",
   "metadata": {
    "execution": {
     "iopub.execute_input": "2022-09-05T05:41:11.033191Z",
     "iopub.status.busy": "2022-09-05T05:41:11.032215Z",
     "iopub.status.idle": "2022-09-05T05:41:11.053231Z",
     "shell.execute_reply": "2022-09-05T05:41:11.051912Z"
    },
    "papermill": {
     "duration": 0.041255,
     "end_time": "2022-09-05T05:41:11.055631",
     "exception": false,
     "start_time": "2022-09-05T05:41:11.014376",
     "status": "completed"
    },
    "tags": []
   },
   "outputs": [
    {
     "data": {
      "text/html": [
       "<div>\n",
       "<style scoped>\n",
       "    .dataframe tbody tr th:only-of-type {\n",
       "        vertical-align: middle;\n",
       "    }\n",
       "\n",
       "    .dataframe tbody tr th {\n",
       "        vertical-align: top;\n",
       "    }\n",
       "\n",
       "    .dataframe thead th {\n",
       "        text-align: right;\n",
       "    }\n",
       "</style>\n",
       "<table border=\"1\" class=\"dataframe\">\n",
       "  <thead>\n",
       "    <tr style=\"text-align: right;\">\n",
       "      <th></th>\n",
       "      <th>country</th>\n",
       "      <th>store</th>\n",
       "      <th>product</th>\n",
       "      <th>num_sold</th>\n",
       "      <th>year</th>\n",
       "      <th>month</th>\n",
       "      <th>day</th>\n",
       "    </tr>\n",
       "  </thead>\n",
       "  <tbody>\n",
       "    <tr>\n",
       "      <th>70123</th>\n",
       "      <td>171.39271</td>\n",
       "      <td>288.536790</td>\n",
       "      <td>240.989562</td>\n",
       "      <td>614</td>\n",
       "      <td>2020</td>\n",
       "      <td>12</td>\n",
       "      <td>31</td>\n",
       "    </tr>\n",
       "    <tr>\n",
       "      <th>70124</th>\n",
       "      <td>171.39271</td>\n",
       "      <td>100.057181</td>\n",
       "      <td>223.243783</td>\n",
       "      <td>215</td>\n",
       "      <td>2020</td>\n",
       "      <td>12</td>\n",
       "      <td>31</td>\n",
       "    </tr>\n",
       "    <tr>\n",
       "      <th>70125</th>\n",
       "      <td>171.39271</td>\n",
       "      <td>100.057181</td>\n",
       "      <td>178.924424</td>\n",
       "      <td>158</td>\n",
       "      <td>2020</td>\n",
       "      <td>12</td>\n",
       "      <td>31</td>\n",
       "    </tr>\n",
       "    <tr>\n",
       "      <th>70126</th>\n",
       "      <td>171.39271</td>\n",
       "      <td>100.057181</td>\n",
       "      <td>134.030173</td>\n",
       "      <td>135</td>\n",
       "      <td>2020</td>\n",
       "      <td>12</td>\n",
       "      <td>31</td>\n",
       "    </tr>\n",
       "    <tr>\n",
       "      <th>70127</th>\n",
       "      <td>171.39271</td>\n",
       "      <td>100.057181</td>\n",
       "      <td>240.989562</td>\n",
       "      <td>202</td>\n",
       "      <td>2020</td>\n",
       "      <td>12</td>\n",
       "      <td>31</td>\n",
       "    </tr>\n",
       "  </tbody>\n",
       "</table>\n",
       "</div>"
      ],
      "text/plain": [
       "         country       store     product  num_sold  year  month  day\n",
       "70123  171.39271  288.536790  240.989562       614  2020     12   31\n",
       "70124  171.39271  100.057181  223.243783       215  2020     12   31\n",
       "70125  171.39271  100.057181  178.924424       158  2020     12   31\n",
       "70126  171.39271  100.057181  134.030173       135  2020     12   31\n",
       "70127  171.39271  100.057181  240.989562       202  2020     12   31"
      ]
     },
     "execution_count": 21,
     "metadata": {},
     "output_type": "execute_result"
    }
   ],
   "source": [
    "df_train.tail()"
   ]
  },
  {
   "cell_type": "code",
   "execution_count": 22,
   "id": "a15ee517",
   "metadata": {
    "execution": {
     "iopub.execute_input": "2022-09-05T05:41:11.089394Z",
     "iopub.status.busy": "2022-09-05T05:41:11.088751Z",
     "iopub.status.idle": "2022-09-05T05:41:11.096491Z",
     "shell.execute_reply": "2022-09-05T05:41:11.095531Z"
    },
    "papermill": {
     "duration": 0.02724,
     "end_time": "2022-09-05T05:41:11.098663",
     "exception": false,
     "start_time": "2022-09-05T05:41:11.071423",
     "status": "completed"
    },
    "tags": []
   },
   "outputs": [],
   "source": [
    "df_test['product']=df_test['product'].map({'Kaggle Advanced Techniques':223.243783,\n",
    "                                          'Kaggle Getting Started':178.924424,\n",
    "                                          'Kaggle Recipe Book':134.030173,\n",
    "                                          'Kaggle for Kids: One Smart Goose':240.989562})"
   ]
  },
  {
   "cell_type": "code",
   "execution_count": 23,
   "id": "1a262a4b",
   "metadata": {
    "execution": {
     "iopub.execute_input": "2022-09-05T05:41:11.132876Z",
     "iopub.status.busy": "2022-09-05T05:41:11.132077Z",
     "iopub.status.idle": "2022-09-05T05:41:11.140236Z",
     "shell.execute_reply": "2022-09-05T05:41:11.139404Z"
    },
    "papermill": {
     "duration": 0.028268,
     "end_time": "2022-09-05T05:41:11.142898",
     "exception": false,
     "start_time": "2022-09-05T05:41:11.114630",
     "status": "completed"
    },
    "tags": []
   },
   "outputs": [],
   "source": [
    "df_test['store']=df_test['store'].map({'KaggleMart':288.536790,\n",
    "                                       'KaggleRama':100.057181})"
   ]
  },
  {
   "cell_type": "code",
   "execution_count": 24,
   "id": "0615731f",
   "metadata": {
    "execution": {
     "iopub.execute_input": "2022-09-05T05:41:11.176688Z",
     "iopub.status.busy": "2022-09-05T05:41:11.176256Z",
     "iopub.status.idle": "2022-09-05T05:41:11.185418Z",
     "shell.execute_reply": "2022-09-05T05:41:11.184570Z"
    },
    "papermill": {
     "duration": 0.028858,
     "end_time": "2022-09-05T05:41:11.187752",
     "exception": false,
     "start_time": "2022-09-05T05:41:11.158894",
     "status": "completed"
    },
    "tags": []
   },
   "outputs": [],
   "source": [
    "df_test['country']=df_test['country'].map({'Belgium':237.940623,\n",
    "                                           'France':214.948580,\n",
    "                                           'Germany':238.399641,\n",
    "                                           'Italy':188.320671,\n",
    "                                           'Poland':114.779689,\n",
    "                                           'Spain':171.392710})"
   ]
  },
  {
   "cell_type": "code",
   "execution_count": 25,
   "id": "5bbbfc0c",
   "metadata": {
    "execution": {
     "iopub.execute_input": "2022-09-05T05:41:11.221555Z",
     "iopub.status.busy": "2022-09-05T05:41:11.220791Z",
     "iopub.status.idle": "2022-09-05T05:41:11.236616Z",
     "shell.execute_reply": "2022-09-05T05:41:11.235386Z"
    },
    "papermill": {
     "duration": 0.03548,
     "end_time": "2022-09-05T05:41:11.238985",
     "exception": false,
     "start_time": "2022-09-05T05:41:11.203505",
     "status": "completed"
    },
    "tags": []
   },
   "outputs": [
    {
     "data": {
      "text/html": [
       "<div>\n",
       "<style scoped>\n",
       "    .dataframe tbody tr th:only-of-type {\n",
       "        vertical-align: middle;\n",
       "    }\n",
       "\n",
       "    .dataframe tbody tr th {\n",
       "        vertical-align: top;\n",
       "    }\n",
       "\n",
       "    .dataframe thead th {\n",
       "        text-align: right;\n",
       "    }\n",
       "</style>\n",
       "<table border=\"1\" class=\"dataframe\">\n",
       "  <thead>\n",
       "    <tr style=\"text-align: right;\">\n",
       "      <th></th>\n",
       "      <th>country</th>\n",
       "      <th>store</th>\n",
       "      <th>product</th>\n",
       "      <th>year</th>\n",
       "      <th>month</th>\n",
       "      <th>day</th>\n",
       "    </tr>\n",
       "  </thead>\n",
       "  <tbody>\n",
       "    <tr>\n",
       "      <th>0</th>\n",
       "      <td>237.940623</td>\n",
       "      <td>288.536790</td>\n",
       "      <td>223.243783</td>\n",
       "      <td>2021</td>\n",
       "      <td>1</td>\n",
       "      <td>1</td>\n",
       "    </tr>\n",
       "    <tr>\n",
       "      <th>1</th>\n",
       "      <td>237.940623</td>\n",
       "      <td>288.536790</td>\n",
       "      <td>178.924424</td>\n",
       "      <td>2021</td>\n",
       "      <td>1</td>\n",
       "      <td>1</td>\n",
       "    </tr>\n",
       "    <tr>\n",
       "      <th>2</th>\n",
       "      <td>237.940623</td>\n",
       "      <td>288.536790</td>\n",
       "      <td>134.030173</td>\n",
       "      <td>2021</td>\n",
       "      <td>1</td>\n",
       "      <td>1</td>\n",
       "    </tr>\n",
       "    <tr>\n",
       "      <th>3</th>\n",
       "      <td>237.940623</td>\n",
       "      <td>288.536790</td>\n",
       "      <td>240.989562</td>\n",
       "      <td>2021</td>\n",
       "      <td>1</td>\n",
       "      <td>1</td>\n",
       "    </tr>\n",
       "    <tr>\n",
       "      <th>4</th>\n",
       "      <td>237.940623</td>\n",
       "      <td>100.057181</td>\n",
       "      <td>223.243783</td>\n",
       "      <td>2021</td>\n",
       "      <td>1</td>\n",
       "      <td>1</td>\n",
       "    </tr>\n",
       "    <tr>\n",
       "      <th>...</th>\n",
       "      <td>...</td>\n",
       "      <td>...</td>\n",
       "      <td>...</td>\n",
       "      <td>...</td>\n",
       "      <td>...</td>\n",
       "      <td>...</td>\n",
       "    </tr>\n",
       "    <tr>\n",
       "      <th>17515</th>\n",
       "      <td>171.392710</td>\n",
       "      <td>288.536790</td>\n",
       "      <td>240.989562</td>\n",
       "      <td>2021</td>\n",
       "      <td>12</td>\n",
       "      <td>31</td>\n",
       "    </tr>\n",
       "    <tr>\n",
       "      <th>17516</th>\n",
       "      <td>171.392710</td>\n",
       "      <td>100.057181</td>\n",
       "      <td>223.243783</td>\n",
       "      <td>2021</td>\n",
       "      <td>12</td>\n",
       "      <td>31</td>\n",
       "    </tr>\n",
       "    <tr>\n",
       "      <th>17517</th>\n",
       "      <td>171.392710</td>\n",
       "      <td>100.057181</td>\n",
       "      <td>178.924424</td>\n",
       "      <td>2021</td>\n",
       "      <td>12</td>\n",
       "      <td>31</td>\n",
       "    </tr>\n",
       "    <tr>\n",
       "      <th>17518</th>\n",
       "      <td>171.392710</td>\n",
       "      <td>100.057181</td>\n",
       "      <td>134.030173</td>\n",
       "      <td>2021</td>\n",
       "      <td>12</td>\n",
       "      <td>31</td>\n",
       "    </tr>\n",
       "    <tr>\n",
       "      <th>17519</th>\n",
       "      <td>171.392710</td>\n",
       "      <td>100.057181</td>\n",
       "      <td>240.989562</td>\n",
       "      <td>2021</td>\n",
       "      <td>12</td>\n",
       "      <td>31</td>\n",
       "    </tr>\n",
       "  </tbody>\n",
       "</table>\n",
       "<p>17520 rows × 6 columns</p>\n",
       "</div>"
      ],
      "text/plain": [
       "          country       store     product  year  month  day\n",
       "0      237.940623  288.536790  223.243783  2021      1    1\n",
       "1      237.940623  288.536790  178.924424  2021      1    1\n",
       "2      237.940623  288.536790  134.030173  2021      1    1\n",
       "3      237.940623  288.536790  240.989562  2021      1    1\n",
       "4      237.940623  100.057181  223.243783  2021      1    1\n",
       "...           ...         ...         ...   ...    ...  ...\n",
       "17515  171.392710  288.536790  240.989562  2021     12   31\n",
       "17516  171.392710  100.057181  223.243783  2021     12   31\n",
       "17517  171.392710  100.057181  178.924424  2021     12   31\n",
       "17518  171.392710  100.057181  134.030173  2021     12   31\n",
       "17519  171.392710  100.057181  240.989562  2021     12   31\n",
       "\n",
       "[17520 rows x 6 columns]"
      ]
     },
     "execution_count": 25,
     "metadata": {},
     "output_type": "execute_result"
    }
   ],
   "source": [
    "df_test"
   ]
  },
  {
   "cell_type": "code",
   "execution_count": 26,
   "id": "b43d52bb",
   "metadata": {
    "execution": {
     "iopub.execute_input": "2022-09-05T05:41:11.273052Z",
     "iopub.status.busy": "2022-09-05T05:41:11.272636Z",
     "iopub.status.idle": "2022-09-05T05:41:11.297350Z",
     "shell.execute_reply": "2022-09-05T05:41:11.296253Z"
    },
    "papermill": {
     "duration": 0.044494,
     "end_time": "2022-09-05T05:41:11.299857",
     "exception": false,
     "start_time": "2022-09-05T05:41:11.255363",
     "status": "completed"
    },
    "tags": []
   },
   "outputs": [
    {
     "data": {
      "text/plain": [
       "num_sold    1.000000\n",
       "store       0.742672\n",
       "country     0.339869\n",
       "product     0.326988\n",
       "year        0.100914\n",
       "day         0.007803\n",
       "month       0.001004\n",
       "Name: num_sold, dtype: float64"
      ]
     },
     "execution_count": 26,
     "metadata": {},
     "output_type": "execute_result"
    }
   ],
   "source": [
    "corr_matrix = df_train.corr()\n",
    "corr_matrix['num_sold'].sort_values(ascending=False)"
   ]
  },
  {
   "cell_type": "code",
   "execution_count": 27,
   "id": "4f0fc06c",
   "metadata": {
    "execution": {
     "iopub.execute_input": "2022-09-05T05:41:11.334948Z",
     "iopub.status.busy": "2022-09-05T05:41:11.334221Z",
     "iopub.status.idle": "2022-09-05T05:41:11.947655Z",
     "shell.execute_reply": "2022-09-05T05:41:11.946454Z"
    },
    "papermill": {
     "duration": 0.633701,
     "end_time": "2022-09-05T05:41:11.950085",
     "exception": false,
     "start_time": "2022-09-05T05:41:11.316384",
     "status": "completed"
    },
    "tags": []
   },
   "outputs": [
    {
     "data": {
      "text/plain": [
       "<AxesSubplot:>"
      ]
     },
     "execution_count": 27,
     "metadata": {},
     "output_type": "execute_result"
    },
    {
     "data": {
      "image/png": "[encoded data removed]",
      "text/plain": [
       "<Figure size 1296x720 with 2 Axes>"
      ]
     },
     "metadata": {
      "needs_background": "light"
     },
     "output_type": "display_data"
    }
   ],
   "source": [
    "plt.subplots(figsize=(18,10))\n",
    "sns.heatmap(df_train.corr(),annot=True)"
   ]
  },
  {
   "cell_type": "code",
   "execution_count": 28,
   "id": "f8784c76",
   "metadata": {
    "execution": {
     "iopub.execute_input": "2022-09-05T05:41:11.985855Z",
     "iopub.status.busy": "2022-09-05T05:41:11.985416Z",
     "iopub.status.idle": "2022-09-05T05:41:11.993024Z",
     "shell.execute_reply": "2022-09-05T05:41:11.992124Z"
    },
    "papermill": {
     "duration": 0.0281,
     "end_time": "2022-09-05T05:41:11.995273",
     "exception": false,
     "start_time": "2022-09-05T05:41:11.967173",
     "status": "completed"
    },
    "tags": []
   },
   "outputs": [],
   "source": [
    "X=df_train.drop('num_sold',axis=1)\n",
    "y=df_train['num_sold']"
   ]
  },
  {
   "cell_type": "code",
   "execution_count": 29,
   "id": "d8a6e359",
   "metadata": {
    "execution": {
     "iopub.execute_input": "2022-09-05T05:41:12.031139Z",
     "iopub.status.busy": "2022-09-05T05:41:12.030767Z",
     "iopub.status.idle": "2022-09-05T05:41:12.126535Z",
     "shell.execute_reply": "2022-09-05T05:41:12.125577Z"
    },
    "papermill": {
     "duration": 0.117024,
     "end_time": "2022-09-05T05:41:12.129366",
     "exception": false,
     "start_time": "2022-09-05T05:41:12.012342",
     "status": "completed"
    },
    "tags": []
   },
   "outputs": [],
   "source": [
    "from sklearn.model_selection import train_test_split\n",
    "X_train, X_test, y_train, y_test = train_test_split( X, y, test_size=0.2, random_state=42)"
   ]
  },
  {
   "cell_type": "code",
   "execution_count": 30,
   "id": "6721a39e",
   "metadata": {
    "execution": {
     "iopub.execute_input": "2022-09-05T05:41:12.165175Z",
     "iopub.status.busy": "2022-09-05T05:41:12.164738Z",
     "iopub.status.idle": "2022-09-05T05:41:14.666311Z",
     "shell.execute_reply": "2022-09-05T05:41:14.665235Z"
    },
    "papermill": {
     "duration": 2.522627,
     "end_time": "2022-09-05T05:41:14.668987",
     "exception": false,
     "start_time": "2022-09-05T05:41:12.146360",
     "status": "completed"
    },
    "tags": []
   },
   "outputs": [
    {
     "data": {
      "text/html": [
       "<style type='text/css'>\n",
       ".datatable table.frame { margin-bottom: 0; }\n",
       ".datatable table.frame thead { border-bottom: none; }\n",
       ".datatable table.frame tr.coltypes td {  color: #FFFFFF;  line-height: 6px;  padding: 0 0.5em;}\n",
       ".datatable .bool    { background: #DDDD99; }\n",
       ".datatable .object  { background: #565656; }\n",
       ".datatable .int     { background: #5D9E5D; }\n",
       ".datatable .float   { background: #4040CC; }\n",
       ".datatable .str     { background: #CC4040; }\n",
       ".datatable .time    { background: #40CC40; }\n",
       ".datatable .row_index {  background: var(--jp-border-color3);  border-right: 1px solid var(--jp-border-color0);  color: var(--jp-ui-font-color3);  font-size: 9px;}\n",
       ".datatable .frame tbody td { text-align: left; }\n",
       ".datatable .frame tr.coltypes .row_index {  background: var(--jp-border-color0);}\n",
       ".datatable th:nth-child(2) { padding-left: 12px; }\n",
       ".datatable .hellipsis {  color: var(--jp-cell-editor-border-color);}\n",
       ".datatable .vellipsis {  background: var(--jp-layout-color0);  color: var(--jp-cell-editor-border-color);}\n",
       ".datatable .na {  color: var(--jp-cell-editor-border-color);  font-size: 80%;}\n",
       ".datatable .sp {  opacity: 0.25;}\n",
       ".datatable .footer { font-size: 9px; }\n",
       ".datatable .frame_dimensions {  background: var(--jp-border-color3);  border-top: 1px solid var(--jp-border-color0);  color: var(--jp-ui-font-color3);  display: inline-block;  opacity: 0.6;  padding: 1px 10px 1px 5px;}\n",
       "</style>\n"
      ],
      "text/plain": [
       "<IPython.core.display.HTML object>"
      ]
     },
     "metadata": {},
     "output_type": "display_data"
    }
   ],
   "source": [
    "from flaml import AutoML\n",
    "automl = AutoML()"
   ]
  },
  {
   "cell_type": "code",
   "execution_count": 31,
   "id": "7eb7a2dd",
   "metadata": {
    "collapsed": true,
    "execution": {
     "iopub.execute_input": "2022-09-05T05:41:14.705949Z",
     "iopub.status.busy": "2022-09-05T05:41:14.705535Z",
     "iopub.status.idle": "2022-09-05T05:56:33.728093Z",
     "shell.execute_reply": "2022-09-05T05:56:33.726866Z"
    },
    "jupyter": {
     "outputs_hidden": true
    },
    "papermill": {
     "duration": 919.06559,
     "end_time": "2022-09-05T05:56:33.752411",
     "exception": false,
     "start_time": "2022-09-05T05:41:14.686821",
     "status": "completed"
    },
    "tags": []
   },
   "outputs": [
    {
     "name": "stderr",
     "output_type": "stream",
     "text": [
      "[flaml.automl: 09-05 05:41:14] {2565} INFO - task = regression\n",
      "[flaml.automl: 09-05 05:41:14] {2567} INFO - Data split method: uniform\n",
      "[flaml.automl: 09-05 05:41:14] {2570} INFO - Evaluation method: cv\n",
      "[flaml.automl: 09-05 05:41:14] {2689} INFO - Minimizing error metric: mape\n",
      "[flaml.automl: 09-05 05:41:15] {2831} INFO - List of ML learners in AutoML Run: ['lgbm', 'rf', 'catboost', 'xgboost', 'extra_tree', 'xgb_limitdepth']\n",
      "[flaml.automl: 09-05 05:41:15] {3133} INFO - iteration 0, current learner lgbm\n",
      "[flaml.automl: 09-05 05:41:15] {3267} INFO - Estimated sufficient time budget=3720s. Estimated necessary time budget=32s.\n",
      "[flaml.automl: 09-05 05:41:15] {3319} INFO -  at 0.7s,\testimator lgbm's best error=0.6684,\tbest estimator lgbm's best error=0.6684\n",
      "[flaml.automl: 09-05 05:41:15] {3133} INFO - iteration 1, current learner lgbm\n",
      "[flaml.automl: 09-05 05:41:15] {3319} INFO -  at 1.0s,\testimator lgbm's best error=0.6684,\tbest estimator lgbm's best error=0.6684\n",
      "[flaml.automl: 09-05 05:41:15] {3133} INFO - iteration 2, current learner lgbm\n",
      "[flaml.automl: 09-05 05:41:15] {3319} INFO -  at 1.3s,\testimator lgbm's best error=0.4481,\tbest estimator lgbm's best error=0.4481\n",
      "[flaml.automl: 09-05 05:41:15] {3133} INFO - iteration 3, current learner lgbm\n",
      "[flaml.automl: 09-05 05:41:17] {3319} INFO -  at 2.8s,\testimator lgbm's best error=0.1685,\tbest estimator lgbm's best error=0.1685\n",
      "[flaml.automl: 09-05 05:41:17] {3133} INFO - iteration 4, current learner xgboost\n",
      "[flaml.automl: 09-05 05:41:18] {3319} INFO -  at 3.4s,\testimator xgboost's best error=0.6031,\tbest estimator lgbm's best error=0.1685\n",
      "[flaml.automl: 09-05 05:41:18] {3133} INFO - iteration 5, current learner extra_tree\n",
      "[flaml.automl: 09-05 05:41:19] {3319} INFO -  at 4.6s,\testimator extra_tree's best error=0.3694,\tbest estimator lgbm's best error=0.1685\n",
      "[flaml.automl: 09-05 05:41:19] {3133} INFO - iteration 6, current learner rf\n",
      "[flaml.automl: 09-05 05:41:20] {3319} INFO -  at 5.8s,\testimator rf's best error=0.3856,\tbest estimator lgbm's best error=0.1685\n",
      "[flaml.automl: 09-05 05:41:20] {3133} INFO - iteration 7, current learner rf\n",
      "[flaml.automl: 09-05 05:41:21] {3319} INFO -  at 7.1s,\testimator rf's best error=0.2011,\tbest estimator lgbm's best error=0.1685\n",
      "[flaml.automl: 09-05 05:41:21] {3133} INFO - iteration 8, current learner lgbm\n",
      "[flaml.automl: 09-05 05:41:22] {3319} INFO -  at 7.3s,\testimator lgbm's best error=0.1685,\tbest estimator lgbm's best error=0.1685\n",
      "[flaml.automl: 09-05 05:41:22] {3133} INFO - iteration 9, current learner lgbm\n",
      "[flaml.automl: 09-05 05:41:22] {3319} INFO -  at 7.7s,\testimator lgbm's best error=0.1521,\tbest estimator lgbm's best error=0.1521\n",
      "[flaml.automl: 09-05 05:41:22] {3133} INFO - iteration 10, current learner lgbm\n",
      "[flaml.automl: 09-05 05:41:22] {3319} INFO -  at 8.0s,\testimator lgbm's best error=0.1521,\tbest estimator lgbm's best error=0.1521\n",
      "[flaml.automl: 09-05 05:41:22] {3133} INFO - iteration 11, current learner lgbm\n",
      "[flaml.automl: 09-05 05:41:22] {3319} INFO -  at 8.3s,\testimator lgbm's best error=0.1521,\tbest estimator lgbm's best error=0.1521\n",
      "[flaml.automl: 09-05 05:41:22] {3133} INFO - iteration 12, current learner rf\n",
      "[flaml.automl: 09-05 05:41:24] {3319} INFO -  at 9.5s,\testimator rf's best error=0.2011,\tbest estimator lgbm's best error=0.1521\n",
      "[flaml.automl: 09-05 05:41:24] {3133} INFO - iteration 13, current learner rf\n",
      "[flaml.automl: 09-05 05:41:25] {3319} INFO -  at 11.0s,\testimator rf's best error=0.1276,\tbest estimator rf's best error=0.1276\n",
      "[flaml.automl: 09-05 05:41:25] {3133} INFO - iteration 14, current learner xgboost\n",
      "[flaml.automl: 09-05 05:41:26] {3319} INFO -  at 11.6s,\testimator xgboost's best error=0.6031,\tbest estimator rf's best error=0.1276\n",
      "[flaml.automl: 09-05 05:41:26] {3133} INFO - iteration 15, current learner extra_tree\n",
      "[flaml.automl: 09-05 05:41:27] {3319} INFO -  at 12.8s,\testimator extra_tree's best error=0.1982,\tbest estimator rf's best error=0.1276\n",
      "[flaml.automl: 09-05 05:41:27] {3133} INFO - iteration 16, current learner rf\n",
      "[flaml.automl: 09-05 05:41:28] {3319} INFO -  at 14.2s,\testimator rf's best error=0.1013,\tbest estimator rf's best error=0.1013\n",
      "[flaml.automl: 09-05 05:41:28] {3133} INFO - iteration 17, current learner extra_tree\n",
      "[flaml.automl: 09-05 05:41:30] {3319} INFO -  at 15.4s,\testimator extra_tree's best error=0.1982,\tbest estimator rf's best error=0.1013\n",
      "[flaml.automl: 09-05 05:41:30] {3133} INFO - iteration 18, current learner lgbm\n",
      "[flaml.automl: 09-05 05:41:30] {3319} INFO -  at 16.0s,\testimator lgbm's best error=0.1250,\tbest estimator rf's best error=0.1013\n",
      "[flaml.automl: 09-05 05:41:30] {3133} INFO - iteration 19, current learner xgboost\n",
      "[flaml.automl: 09-05 05:41:31] {3319} INFO -  at 16.5s,\testimator xgboost's best error=0.3481,\tbest estimator rf's best error=0.1013\n",
      "[flaml.automl: 09-05 05:41:31] {3133} INFO - iteration 20, current learner rf\n",
      "[flaml.automl: 09-05 05:41:32] {3319} INFO -  at 17.9s,\testimator rf's best error=0.1013,\tbest estimator rf's best error=0.1013\n",
      "[flaml.automl: 09-05 05:41:32] {3133} INFO - iteration 21, current learner rf\n",
      "[flaml.automl: 09-05 05:41:34] {3319} INFO -  at 19.4s,\testimator rf's best error=0.0940,\tbest estimator rf's best error=0.0940\n",
      "[flaml.automl: 09-05 05:41:34] {3133} INFO - iteration 22, current learner lgbm\n",
      "[flaml.automl: 09-05 05:41:34] {3319} INFO -  at 19.8s,\testimator lgbm's best error=0.1250,\tbest estimator rf's best error=0.0940\n",
      "[flaml.automl: 09-05 05:41:34] {3133} INFO - iteration 23, current learner lgbm\n",
      "[flaml.automl: 09-05 05:41:36] {3319} INFO -  at 22.1s,\testimator lgbm's best error=0.0755,\tbest estimator lgbm's best error=0.0755\n",
      "[flaml.automl: 09-05 05:41:36] {3133} INFO - iteration 24, current learner extra_tree\n",
      "[flaml.automl: 09-05 05:41:38] {3319} INFO -  at 23.4s,\testimator extra_tree's best error=0.1369,\tbest estimator lgbm's best error=0.0755\n",
      "[flaml.automl: 09-05 05:41:38] {3133} INFO - iteration 25, current learner extra_tree\n",
      "[flaml.automl: 09-05 05:41:39] {3319} INFO -  at 25.0s,\testimator extra_tree's best error=0.1138,\tbest estimator lgbm's best error=0.0755\n",
      "[flaml.automl: 09-05 05:41:39] {3133} INFO - iteration 26, current learner lgbm\n",
      "[flaml.automl: 09-05 05:41:42] {3319} INFO -  at 28.0s,\testimator lgbm's best error=0.0723,\tbest estimator lgbm's best error=0.0723\n",
      "[flaml.automl: 09-05 05:41:42] {3133} INFO - iteration 27, current learner xgboost\n",
      "[flaml.automl: 09-05 05:41:43] {3319} INFO -  at 28.6s,\testimator xgboost's best error=0.2656,\tbest estimator lgbm's best error=0.0723\n",
      "[flaml.automl: 09-05 05:41:43] {3133} INFO - iteration 28, current learner extra_tree\n",
      "[flaml.automl: 09-05 05:41:44] {3319} INFO -  at 30.1s,\testimator extra_tree's best error=0.1138,\tbest estimator lgbm's best error=0.0723\n",
      "[flaml.automl: 09-05 05:41:44] {3133} INFO - iteration 29, current learner xgboost\n",
      "[flaml.automl: 09-05 05:41:45] {3319} INFO -  at 30.7s,\testimator xgboost's best error=0.2656,\tbest estimator lgbm's best error=0.0723\n",
      "[flaml.automl: 09-05 05:41:45] {3133} INFO - iteration 30, current learner lgbm\n",
      "[flaml.automl: 09-05 05:41:47] {3319} INFO -  at 33.0s,\testimator lgbm's best error=0.0723,\tbest estimator lgbm's best error=0.0723\n",
      "[flaml.automl: 09-05 05:41:47] {3133} INFO - iteration 31, current learner lgbm\n",
      "[flaml.automl: 09-05 05:41:51] {3319} INFO -  at 36.3s,\testimator lgbm's best error=0.0723,\tbest estimator lgbm's best error=0.0723\n",
      "[flaml.automl: 09-05 05:41:51] {3133} INFO - iteration 32, current learner lgbm\n",
      "[flaml.automl: 09-05 05:41:55] {3319} INFO -  at 41.0s,\testimator lgbm's best error=0.0723,\tbest estimator lgbm's best error=0.0723\n",
      "[flaml.automl: 09-05 05:41:55] {3133} INFO - iteration 33, current learner extra_tree\n",
      "[flaml.automl: 09-05 05:41:57] {3319} INFO -  at 42.4s,\testimator extra_tree's best error=0.1101,\tbest estimator lgbm's best error=0.0723\n",
      "[flaml.automl: 09-05 05:41:57] {3133} INFO - iteration 34, current learner lgbm\n",
      "[flaml.automl: 09-05 05:42:03] {3319} INFO -  at 48.3s,\testimator lgbm's best error=0.0723,\tbest estimator lgbm's best error=0.0723\n",
      "[flaml.automl: 09-05 05:42:03] {3133} INFO - iteration 35, current learner xgboost\n",
      "[flaml.automl: 09-05 05:42:03] {3319} INFO -  at 48.9s,\testimator xgboost's best error=0.2656,\tbest estimator lgbm's best error=0.0723\n",
      "[flaml.automl: 09-05 05:42:03] {3133} INFO - iteration 36, current learner catboost\n",
      "[flaml.automl: 09-05 05:42:26] {3319} INFO -  at 71.4s,\testimator catboost's best error=0.0655,\tbest estimator catboost's best error=0.0655\n",
      "[flaml.automl: 09-05 05:42:26] {3133} INFO - iteration 37, current learner extra_tree\n",
      "[flaml.automl: 09-05 05:42:27] {3319} INFO -  at 72.7s,\testimator extra_tree's best error=0.1101,\tbest estimator catboost's best error=0.0655\n",
      "[flaml.automl: 09-05 05:42:27] {3133} INFO - iteration 38, current learner xgboost\n",
      "[flaml.automl: 09-05 05:42:28] {3319} INFO -  at 73.5s,\testimator xgboost's best error=0.1813,\tbest estimator catboost's best error=0.0655\n",
      "[flaml.automl: 09-05 05:42:28] {3133} INFO - iteration 39, current learner xgboost\n",
      "[flaml.automl: 09-05 05:42:29] {3319} INFO -  at 74.6s,\testimator xgboost's best error=0.1499,\tbest estimator catboost's best error=0.0655\n",
      "[flaml.automl: 09-05 05:42:29] {3133} INFO - iteration 40, current learner catboost\n",
      "[flaml.automl: 09-05 05:43:12] {3319} INFO -  at 117.3s,\testimator catboost's best error=0.0648,\tbest estimator catboost's best error=0.0648\n",
      "[flaml.automl: 09-05 05:43:12] {3133} INFO - iteration 41, current learner xgboost\n",
      "[flaml.automl: 09-05 05:43:12] {3319} INFO -  at 118.2s,\testimator xgboost's best error=0.1447,\tbest estimator catboost's best error=0.0648\n",
      "[flaml.automl: 09-05 05:43:12] {3133} INFO - iteration 42, current learner xgboost\n",
      "[flaml.automl: 09-05 05:43:13] {3319} INFO -  at 119.1s,\testimator xgboost's best error=0.0995,\tbest estimator catboost's best error=0.0648\n",
      "[flaml.automl: 09-05 05:43:13] {3133} INFO - iteration 43, current learner rf\n",
      "[flaml.automl: 09-05 05:43:15] {3319} INFO -  at 120.4s,\testimator rf's best error=0.0940,\tbest estimator catboost's best error=0.0648\n",
      "[flaml.automl: 09-05 05:43:15] {3133} INFO - iteration 44, current learner xgboost\n",
      "[flaml.automl: 09-05 05:43:15] {3319} INFO -  at 121.3s,\testimator xgboost's best error=0.0995,\tbest estimator catboost's best error=0.0648\n",
      "[flaml.automl: 09-05 05:43:15] {3133} INFO - iteration 45, current learner extra_tree\n",
      "[flaml.automl: 09-05 05:43:17] {3319} INFO -  at 123.1s,\testimator extra_tree's best error=0.1028,\tbest estimator catboost's best error=0.0648\n",
      "[flaml.automl: 09-05 05:43:17] {3133} INFO - iteration 46, current learner xgboost\n",
      "[flaml.automl: 09-05 05:43:18] {3319} INFO -  at 123.8s,\testimator xgboost's best error=0.0995,\tbest estimator catboost's best error=0.0648\n",
      "[flaml.automl: 09-05 05:43:18] {3133} INFO - iteration 47, current learner xgboost\n",
      "[flaml.automl: 09-05 05:43:19] {3319} INFO -  at 125.3s,\testimator xgboost's best error=0.0874,\tbest estimator catboost's best error=0.0648\n",
      "[flaml.automl: 09-05 05:43:19] {3133} INFO - iteration 48, current learner xgboost\n",
      "[flaml.automl: 09-05 05:43:20] {3319} INFO -  at 126.1s,\testimator xgboost's best error=0.0874,\tbest estimator catboost's best error=0.0648\n",
      "[flaml.automl: 09-05 05:43:20] {3133} INFO - iteration 49, current learner rf\n",
      "[flaml.automl: 09-05 05:43:22] {3319} INFO -  at 127.9s,\testimator rf's best error=0.0875,\tbest estimator catboost's best error=0.0648\n",
      "[flaml.automl: 09-05 05:43:22] {3133} INFO - iteration 50, current learner xgboost\n",
      "[flaml.automl: 09-05 05:43:25] {3319} INFO -  at 131.0s,\testimator xgboost's best error=0.0874,\tbest estimator catboost's best error=0.0648\n",
      "[flaml.automl: 09-05 05:43:25] {3133} INFO - iteration 51, current learner extra_tree\n",
      "[flaml.automl: 09-05 05:43:27] {3319} INFO -  at 132.4s,\testimator extra_tree's best error=0.1028,\tbest estimator catboost's best error=0.0648\n",
      "[flaml.automl: 09-05 05:43:27] {3133} INFO - iteration 52, current learner rf\n",
      "[flaml.automl: 09-05 05:43:28] {3319} INFO -  at 133.7s,\testimator rf's best error=0.0875,\tbest estimator catboost's best error=0.0648\n",
      "[flaml.automl: 09-05 05:43:28] {3133} INFO - iteration 53, current learner xgb_limitdepth\n",
      "[flaml.automl: 09-05 05:43:30] {3319} INFO -  at 135.8s,\testimator xgb_limitdepth's best error=0.0918,\tbest estimator catboost's best error=0.0648\n",
      "[flaml.automl: 09-05 05:43:30] {3133} INFO - iteration 54, current learner xgb_limitdepth\n",
      "[flaml.automl: 09-05 05:43:32] {3319} INFO -  at 137.4s,\testimator xgb_limitdepth's best error=0.0918,\tbest estimator catboost's best error=0.0648\n",
      "[flaml.automl: 09-05 05:43:32] {3133} INFO - iteration 55, current learner xgboost\n",
      "[flaml.automl: 09-05 05:43:33] {3319} INFO -  at 138.4s,\testimator xgboost's best error=0.0874,\tbest estimator catboost's best error=0.0648\n",
      "[flaml.automl: 09-05 05:43:33] {3133} INFO - iteration 56, current learner rf\n",
      "[flaml.automl: 09-05 05:43:34] {3319} INFO -  at 139.7s,\testimator rf's best error=0.0860,\tbest estimator catboost's best error=0.0648\n",
      "[flaml.automl: 09-05 05:43:34] {3133} INFO - iteration 57, current learner xgb_limitdepth\n",
      "[flaml.automl: 09-05 05:43:36] {3319} INFO -  at 142.0s,\testimator xgb_limitdepth's best error=0.0885,\tbest estimator catboost's best error=0.0648\n",
      "[flaml.automl: 09-05 05:43:36] {3133} INFO - iteration 58, current learner catboost\n",
      "[flaml.automl: 09-05 05:44:12] {3319} INFO -  at 177.6s,\testimator catboost's best error=0.0624,\tbest estimator catboost's best error=0.0624\n",
      "[flaml.automl: 09-05 05:44:12] {3133} INFO - iteration 59, current learner catboost\n",
      "[flaml.automl: 09-05 05:45:43] {3319} INFO -  at 268.7s,\testimator catboost's best error=0.0601,\tbest estimator catboost's best error=0.0601\n",
      "[flaml.automl: 09-05 05:45:43] {3133} INFO - iteration 60, current learner xgboost\n",
      "[flaml.automl: 09-05 05:45:45] {3319} INFO -  at 271.0s,\testimator xgboost's best error=0.0797,\tbest estimator catboost's best error=0.0601\n",
      "[flaml.automl: 09-05 05:45:45] {3133} INFO - iteration 61, current learner lgbm\n",
      "[flaml.automl: 09-05 05:45:49] {3319} INFO -  at 274.3s,\testimator lgbm's best error=0.0723,\tbest estimator catboost's best error=0.0601\n",
      "[flaml.automl: 09-05 05:45:49] {3133} INFO - iteration 62, current learner xgboost\n",
      "[flaml.automl: 09-05 05:45:50] {3319} INFO -  at 275.4s,\testimator xgboost's best error=0.0797,\tbest estimator catboost's best error=0.0601\n",
      "[flaml.automl: 09-05 05:45:50] {3133} INFO - iteration 63, current learner rf\n",
      "[flaml.automl: 09-05 05:45:51] {3319} INFO -  at 276.8s,\testimator rf's best error=0.0860,\tbest estimator catboost's best error=0.0601\n",
      "[flaml.automl: 09-05 05:45:51] {3133} INFO - iteration 64, current learner extra_tree\n",
      "[flaml.automl: 09-05 05:45:52] {3319} INFO -  at 278.1s,\testimator extra_tree's best error=0.0985,\tbest estimator catboost's best error=0.0601\n",
      "[flaml.automl: 09-05 05:45:52] {3133} INFO - iteration 65, current learner extra_tree\n",
      "[flaml.automl: 09-05 05:45:54] {3319} INFO -  at 279.6s,\testimator extra_tree's best error=0.0985,\tbest estimator catboost's best error=0.0601\n",
      "[flaml.automl: 09-05 05:45:54] {3133} INFO - iteration 66, current learner rf\n",
      "[flaml.automl: 09-05 05:45:56] {3319} INFO -  at 281.9s,\testimator rf's best error=0.0804,\tbest estimator catboost's best error=0.0601\n",
      "[flaml.automl: 09-05 05:45:56] {3133} INFO - iteration 67, current learner catboost\n",
      "[flaml.automl: 09-05 05:46:51] {3319} INFO -  at 337.0s,\testimator catboost's best error=0.0601,\tbest estimator catboost's best error=0.0601\n",
      "[flaml.automl: 09-05 05:46:51] {3133} INFO - iteration 68, current learner xgboost\n",
      "[flaml.automl: 09-05 05:46:57] {3319} INFO -  at 342.7s,\testimator xgboost's best error=0.0753,\tbest estimator catboost's best error=0.0601\n",
      "[flaml.automl: 09-05 05:46:57] {3133} INFO - iteration 69, current learner rf\n",
      "[flaml.automl: 09-05 05:46:59] {3319} INFO -  at 344.6s,\testimator rf's best error=0.0804,\tbest estimator catboost's best error=0.0601\n",
      "[flaml.automl: 09-05 05:46:59] {3133} INFO - iteration 70, current learner lgbm\n",
      "[flaml.automl: 09-05 05:47:03] {3319} INFO -  at 348.6s,\testimator lgbm's best error=0.0675,\tbest estimator catboost's best error=0.0601\n",
      "[flaml.automl: 09-05 05:47:03] {3133} INFO - iteration 71, current learner xgboost\n",
      "[flaml.automl: 09-05 05:47:05] {3319} INFO -  at 350.6s,\testimator xgboost's best error=0.0753,\tbest estimator catboost's best error=0.0601\n",
      "[flaml.automl: 09-05 05:47:05] {3133} INFO - iteration 72, current learner xgboost\n",
      "[flaml.automl: 09-05 05:47:25] {3319} INFO -  at 370.4s,\testimator xgboost's best error=0.0588,\tbest estimator xgboost's best error=0.0588\n",
      "[flaml.automl: 09-05 05:47:25] {3133} INFO - iteration 73, current learner xgboost\n",
      "[flaml.automl: 09-05 05:47:34] {3319} INFO -  at 379.6s,\testimator xgboost's best error=0.0588,\tbest estimator xgboost's best error=0.0588\n",
      "[flaml.automl: 09-05 05:47:34] {3133} INFO - iteration 74, current learner xgb_limitdepth\n",
      "[flaml.automl: 09-05 05:47:36] {3319} INFO -  at 381.5s,\testimator xgb_limitdepth's best error=0.0885,\tbest estimator xgboost's best error=0.0588\n",
      "[flaml.automl: 09-05 05:47:36] {3133} INFO - iteration 75, current learner xgboost\n",
      "[flaml.automl: 09-05 05:47:56] {3319} INFO -  at 401.6s,\testimator xgboost's best error=0.0588,\tbest estimator xgboost's best error=0.0588\n",
      "[flaml.automl: 09-05 05:47:56] {3133} INFO - iteration 76, current learner xgb_limitdepth\n",
      "[flaml.automl: 09-05 05:47:58] {3319} INFO -  at 403.9s,\testimator xgb_limitdepth's best error=0.0885,\tbest estimator xgboost's best error=0.0588\n",
      "[flaml.automl: 09-05 05:47:58] {3133} INFO - iteration 77, current learner rf\n",
      "[flaml.automl: 09-05 05:48:03] {3319} INFO -  at 408.4s,\testimator rf's best error=0.0780,\tbest estimator xgboost's best error=0.0588\n",
      "[flaml.automl: 09-05 05:48:03] {3133} INFO - iteration 78, current learner lgbm\n",
      "[flaml.automl: 09-05 05:48:06] {3319} INFO -  at 411.5s,\testimator lgbm's best error=0.0675,\tbest estimator xgboost's best error=0.0588\n",
      "[flaml.automl: 09-05 05:48:06] {3133} INFO - iteration 79, current learner extra_tree\n",
      "[flaml.automl: 09-05 05:48:08] {3319} INFO -  at 413.4s,\testimator extra_tree's best error=0.0873,\tbest estimator xgboost's best error=0.0588\n",
      "[flaml.automl: 09-05 05:48:08] {3133} INFO - iteration 80, current learner xgboost\n",
      "[flaml.automl: 09-05 05:48:14] {3319} INFO -  at 419.5s,\testimator xgboost's best error=0.0588,\tbest estimator xgboost's best error=0.0588\n",
      "[flaml.automl: 09-05 05:48:14] {3133} INFO - iteration 81, current learner rf\n",
      "[flaml.automl: 09-05 05:48:16] {3319} INFO -  at 422.0s,\testimator rf's best error=0.0780,\tbest estimator xgboost's best error=0.0588\n",
      "[flaml.automl: 09-05 05:48:16] {3133} INFO - iteration 82, current learner extra_tree\n",
      "[flaml.automl: 09-05 05:48:18] {3319} INFO -  at 423.3s,\testimator extra_tree's best error=0.0873,\tbest estimator xgboost's best error=0.0588\n",
      "[flaml.automl: 09-05 05:48:18] {3133} INFO - iteration 83, current learner xgboost\n",
      "[flaml.automl: 09-05 05:48:45] {3319} INFO -  at 450.9s,\testimator xgboost's best error=0.0588,\tbest estimator xgboost's best error=0.0588\n",
      "[flaml.automl: 09-05 05:48:45] {3133} INFO - iteration 84, current learner extra_tree\n",
      "[flaml.automl: 09-05 05:48:49] {3319} INFO -  at 455.1s,\testimator extra_tree's best error=0.0781,\tbest estimator xgboost's best error=0.0588\n",
      "[flaml.automl: 09-05 05:48:49] {3133} INFO - iteration 85, current learner extra_tree\n",
      "[flaml.automl: 09-05 05:48:51] {3319} INFO -  at 457.0s,\testimator extra_tree's best error=0.0781,\tbest estimator xgboost's best error=0.0588\n",
      "[flaml.automl: 09-05 05:48:51] {3133} INFO - iteration 86, current learner extra_tree\n",
      "[flaml.automl: 09-05 05:48:58] {3319} INFO -  at 463.3s,\testimator extra_tree's best error=0.0781,\tbest estimator xgboost's best error=0.0588\n",
      "[flaml.automl: 09-05 05:48:58] {3133} INFO - iteration 87, current learner extra_tree\n",
      "[flaml.automl: 09-05 05:49:04] {3319} INFO -  at 470.0s,\testimator extra_tree's best error=0.0781,\tbest estimator xgboost's best error=0.0588\n",
      "[flaml.automl: 09-05 05:49:04] {3133} INFO - iteration 88, current learner extra_tree\n",
      "[flaml.automl: 09-05 05:49:06] {3319} INFO -  at 471.8s,\testimator extra_tree's best error=0.0781,\tbest estimator xgboost's best error=0.0588\n",
      "[flaml.automl: 09-05 05:49:06] {3133} INFO - iteration 89, current learner catboost\n",
      "[flaml.automl: 09-05 05:49:34] {3319} INFO -  at 500.0s,\testimator catboost's best error=0.0601,\tbest estimator xgboost's best error=0.0588\n",
      "[flaml.automl: 09-05 05:49:34] {3133} INFO - iteration 90, current learner rf\n",
      "[flaml.automl: 09-05 05:49:41] {3319} INFO -  at 506.9s,\testimator rf's best error=0.0780,\tbest estimator xgboost's best error=0.0588\n",
      "[flaml.automl: 09-05 05:49:41] {3133} INFO - iteration 91, current learner xgb_limitdepth\n",
      "[flaml.automl: 09-05 05:49:42] {3319} INFO -  at 507.9s,\testimator xgb_limitdepth's best error=0.0885,\tbest estimator xgboost's best error=0.0588\n",
      "[flaml.automl: 09-05 05:49:42] {3133} INFO - iteration 92, current learner xgboost\n",
      "[flaml.automl: 09-05 05:49:45] {3319} INFO -  at 511.1s,\testimator xgboost's best error=0.0588,\tbest estimator xgboost's best error=0.0588\n",
      "[flaml.automl: 09-05 05:49:45] {3133} INFO - iteration 93, current learner xgb_limitdepth\n",
      "[flaml.automl: 09-05 05:49:51] {3319} INFO -  at 517.1s,\testimator xgb_limitdepth's best error=0.0850,\tbest estimator xgboost's best error=0.0588\n",
      "[flaml.automl: 09-05 05:49:51] {3133} INFO - iteration 94, current learner xgboost\n",
      "[flaml.automl: 09-05 05:51:22] {3319} INFO -  at 608.2s,\testimator xgboost's best error=0.0586,\tbest estimator xgboost's best error=0.0586\n",
      "[flaml.automl: 09-05 05:51:22] {3133} INFO - iteration 95, current learner extra_tree\n",
      "[flaml.automl: 09-05 05:51:28] {3319} INFO -  at 613.4s,\testimator extra_tree's best error=0.0781,\tbest estimator xgboost's best error=0.0586\n",
      "[flaml.automl: 09-05 05:51:28] {3133} INFO - iteration 96, current learner lgbm\n",
      "[flaml.automl: 09-05 05:51:29] {3319} INFO -  at 614.6s,\testimator lgbm's best error=0.0675,\tbest estimator xgboost's best error=0.0586\n",
      "[flaml.automl: 09-05 05:51:29] {3133} INFO - iteration 97, current learner xgb_limitdepth\n",
      "[flaml.automl: 09-05 05:51:36] {3319} INFO -  at 622.2s,\testimator xgb_limitdepth's best error=0.0850,\tbest estimator xgboost's best error=0.0586\n",
      "[flaml.automl: 09-05 05:51:36] {3133} INFO - iteration 98, current learner catboost\n",
      "[flaml.automl: 09-05 05:53:17] {3319} INFO -  at 723.0s,\testimator catboost's best error=0.0601,\tbest estimator xgboost's best error=0.0586\n",
      "[flaml.automl: 09-05 05:53:17] {3133} INFO - iteration 99, current learner xgboost\n",
      "[flaml.automl: 09-05 05:53:50] {3319} INFO -  at 756.0s,\testimator xgboost's best error=0.0586,\tbest estimator xgboost's best error=0.0586\n",
      "[flaml.automl: 09-05 05:53:50] {3133} INFO - iteration 100, current learner catboost\n",
      "[flaml.automl: 09-05 05:55:45] {3319} INFO -  at 870.6s,\testimator catboost's best error=0.0601,\tbest estimator xgboost's best error=0.0586\n",
      "[flaml.automl: 09-05 05:55:45] {3133} INFO - iteration 101, current learner lgbm\n",
      "[flaml.automl: 09-05 05:56:00] {3319} INFO -  at 886.1s,\testimator lgbm's best error=0.0675,\tbest estimator xgboost's best error=0.0586\n",
      "[flaml.automl: 09-05 05:56:00] {3133} INFO - iteration 102, current learner xgb_limitdepth\n",
      "[flaml.automl: 09-05 05:56:04] {3319} INFO -  at 889.8s,\testimator xgb_limitdepth's best error=0.0766,\tbest estimator xgboost's best error=0.0586\n",
      "[flaml.automl: 09-05 05:56:04] {3133} INFO - iteration 103, current learner xgb_limitdepth\n",
      "[flaml.automl: 09-05 05:56:08] {3319} INFO -  at 894.3s,\testimator xgb_limitdepth's best error=0.0707,\tbest estimator xgboost's best error=0.0586\n",
      "[flaml.automl: 09-05 05:56:08] {3133} INFO - iteration 104, current learner lgbm\n",
      "[flaml.automl: 09-05 05:56:13] {3319} INFO -  at 899.2s,\testimator lgbm's best error=0.0675,\tbest estimator xgboost's best error=0.0586\n",
      "[flaml.automl: 09-05 05:56:33] {3579} INFO - retrain xgboost for 19.8s\n",
      "[flaml.automl: 09-05 05:56:33] {3584} INFO - retrained model: XGBRegressor(base_score=0.5, booster='gbtree', callbacks=[],\n",
      "             colsample_bylevel=0.658222851052983, colsample_bynode=1,\n",
      "             colsample_bytree=0.667965547844673, early_stopping_rounds=None,\n",
      "             enable_categorical=False, eval_metric=None, gamma=0, gpu_id=-1,\n",
      "             grow_policy='lossguide', importance_type=None,\n",
      "             interaction_constraints='', learning_rate=0.06905730346178718,\n",
      "             max_bin=256, max_cat_to_onehot=4, max_delta_step=0, max_depth=0,\n",
      "             max_leaves=2016, min_child_weight=13.621110149778742, missing=nan,\n",
      "             monotone_constraints='()', n_estimators=807, n_jobs=-1,\n",
      "             num_parallel_tree=1, predictor='auto', random_state=0,\n",
      "             reg_alpha=0.14341726874717062, reg_lambda=0.3288255602213456, ...)\n",
      "[flaml.automl: 09-05 05:56:33] {2862} INFO - fit succeeded\n",
      "[flaml.automl: 09-05 05:56:33] {2864} INFO - Time taken to find the best model: 608.2184746265411\n"
     ]
    }
   ],
   "source": [
    "automl.fit(X_train, y_train, task=\"regression\",metric='mape',time_budget=900)\n"
   ]
  },
  {
   "cell_type": "code",
   "execution_count": 32,
   "id": "03d44c08",
   "metadata": {
    "execution": {
     "iopub.execute_input": "2022-09-05T05:56:33.815542Z",
     "iopub.status.busy": "2022-09-05T05:56:33.815080Z",
     "iopub.status.idle": "2022-09-05T05:56:33.822803Z",
     "shell.execute_reply": "2022-09-05T05:56:33.821275Z"
    },
    "papermill": {
     "duration": 0.042346,
     "end_time": "2022-09-05T05:56:33.825399",
     "exception": false,
     "start_time": "2022-09-05T05:56:33.783053",
     "status": "completed"
    },
    "tags": []
   },
   "outputs": [
    {
     "name": "stdout",
     "output_type": "stream",
     "text": [
      "Best ML leaner: xgboost\n",
      "Best hyperparmeter config: {'n_estimators': 807, 'max_leaves': 2016, 'min_child_weight': 13.621110149778742, 'learning_rate': 0.06905730346178718, 'subsample': 0.8809985595678514, 'colsample_bylevel': 0.658222851052983, 'colsample_bytree': 0.667965547844673, 'reg_alpha': 0.14341726874717062, 'reg_lambda': 0.3288255602213456}\n",
      "Best mape on validation data: 0.05858\n",
      "Training duration of best run: 19.78 s\n"
     ]
    }
   ],
   "source": [
    "print('Best ML leaner:', automl.best_estimator)\n",
    "print('Best hyperparmeter config:', automl.best_config)\n",
    "print('Best mape on validation data: {0:.4g}'.format(automl.best_loss))\n",
    "print('Training duration of best run: {0:.4g} s'.format(automl.best_config_train_time))"
   ]
  },
  {
   "cell_type": "code",
   "execution_count": 33,
   "id": "f9ed5480",
   "metadata": {
    "execution": {
     "iopub.execute_input": "2022-09-05T05:56:33.888639Z",
     "iopub.status.busy": "2022-09-05T05:56:33.887969Z",
     "iopub.status.idle": "2022-09-05T05:56:45.924534Z",
     "shell.execute_reply": "2022-09-05T05:56:45.923232Z"
    },
    "papermill": {
     "duration": 12.071315,
     "end_time": "2022-09-05T05:56:45.927317",
     "exception": false,
     "start_time": "2022-09-05T05:56:33.856002",
     "status": "completed"
    },
    "tags": []
   },
   "outputs": [
    {
     "name": "stdout",
     "output_type": "stream",
     "text": [
      "train mape = 0.04272126049216162\n",
      " test mape = 0.056976513440386116\n"
     ]
    }
   ],
   "source": [
    "from flaml.ml import sklearn_metric_loss_score\n",
    "print('train mape', '=', sklearn_metric_loss_score('mape', automl.predict(X_train), y_train))\n",
    "print(' test mape', '=', sklearn_metric_loss_score('mape', automl.predict(X_test), y_test))"
   ]
  },
  {
   "cell_type": "code",
   "execution_count": 34,
   "id": "2b997370",
   "metadata": {
    "execution": {
     "iopub.execute_input": "2022-09-05T05:56:45.990648Z",
     "iopub.status.busy": "2022-09-05T05:56:45.989623Z",
     "iopub.status.idle": "2022-09-05T05:56:47.453698Z",
     "shell.execute_reply": "2022-09-05T05:56:47.452676Z"
    },
    "papermill": {
     "duration": 1.498443,
     "end_time": "2022-09-05T05:56:47.456283",
     "exception": false,
     "start_time": "2022-09-05T05:56:45.957840",
     "status": "completed"
    },
    "tags": []
   },
   "outputs": [],
   "source": [
    "y_pred = automl.predict(df_test)"
   ]
  },
  {
   "cell_type": "code",
   "execution_count": 35,
   "id": "9913f450",
   "metadata": {
    "execution": {
     "iopub.execute_input": "2022-09-05T05:56:47.519456Z",
     "iopub.status.busy": "2022-09-05T05:56:47.518678Z",
     "iopub.status.idle": "2022-09-05T05:56:57.117609Z",
     "shell.execute_reply": "2022-09-05T05:56:57.116377Z"
    },
    "papermill": {
     "duration": 9.633362,
     "end_time": "2022-09-05T05:56:57.120142",
     "exception": false,
     "start_time": "2022-09-05T05:56:47.486780",
     "status": "completed"
    },
    "tags": []
   },
   "outputs": [
    {
     "data": {
      "text/plain": [
       "0.9931357468949278"
      ]
     },
     "execution_count": 35,
     "metadata": {},
     "output_type": "execute_result"
    }
   ],
   "source": [
    "automl.score(X_train,y_train)"
   ]
  },
  {
   "cell_type": "code",
   "execution_count": 36,
   "id": "c60b4411",
   "metadata": {
    "execution": {
     "iopub.execute_input": "2022-09-05T05:56:57.185264Z",
     "iopub.status.busy": "2022-09-05T05:56:57.184880Z",
     "iopub.status.idle": "2022-09-05T05:56:59.600351Z",
     "shell.execute_reply": "2022-09-05T05:56:59.599353Z"
    },
    "papermill": {
     "duration": 2.450423,
     "end_time": "2022-09-05T05:56:59.603004",
     "exception": false,
     "start_time": "2022-09-05T05:56:57.152581",
     "status": "completed"
    },
    "tags": []
   },
   "outputs": [],
   "source": [
    "y_test_pred=automl.predict(X_test)"
   ]
  },
  {
   "cell_type": "code",
   "execution_count": 37,
   "id": "cc7ac6c7",
   "metadata": {
    "execution": {
     "iopub.execute_input": "2022-09-05T05:56:59.665500Z",
     "iopub.status.busy": "2022-09-05T05:56:59.665077Z",
     "iopub.status.idle": "2022-09-05T05:57:02.086703Z",
     "shell.execute_reply": "2022-09-05T05:57:02.085530Z"
    },
    "papermill": {
     "duration": 2.456179,
     "end_time": "2022-09-05T05:57:02.089612",
     "exception": false,
     "start_time": "2022-09-05T05:56:59.633433",
     "status": "completed"
    },
    "tags": []
   },
   "outputs": [
    {
     "data": {
      "text/plain": [
       "1.0"
      ]
     },
     "execution_count": 37,
     "metadata": {},
     "output_type": "execute_result"
    }
   ],
   "source": [
    "automl.score(X_test,y_test_pred)"
   ]
  },
  {
   "cell_type": "code",
   "execution_count": 38,
   "id": "fe5dcba1",
   "metadata": {
    "execution": {
     "iopub.execute_input": "2022-09-05T05:57:02.153620Z",
     "iopub.status.busy": "2022-09-05T05:57:02.151946Z",
     "iopub.status.idle": "2022-09-05T05:57:03.652607Z",
     "shell.execute_reply": "2022-09-05T05:57:03.651463Z"
    },
    "papermill": {
     "duration": 1.535068,
     "end_time": "2022-09-05T05:57:03.655061",
     "exception": false,
     "start_time": "2022-09-05T05:57:02.119993",
     "status": "completed"
    },
    "tags": []
   },
   "outputs": [
    {
     "data": {
      "text/plain": [
       "1.0"
      ]
     },
     "execution_count": 38,
     "metadata": {},
     "output_type": "execute_result"
    }
   ],
   "source": [
    "automl.score(df_test,y_pred)"
   ]
  },
  {
   "cell_type": "code",
   "execution_count": 39,
   "id": "f5cf8f91",
   "metadata": {
    "execution": {
     "iopub.execute_input": "2022-09-05T05:57:03.718526Z",
     "iopub.status.busy": "2022-09-05T05:57:03.717767Z",
     "iopub.status.idle": "2022-09-05T05:57:03.767888Z",
     "shell.execute_reply": "2022-09-05T05:57:03.766731Z"
    },
    "papermill": {
     "duration": 0.084513,
     "end_time": "2022-09-05T05:57:03.770420",
     "exception": false,
     "start_time": "2022-09-05T05:57:03.685907",
     "status": "completed"
    },
    "tags": []
   },
   "outputs": [
    {
     "data": {
      "text/html": [
       "<div>\n",
       "<style scoped>\n",
       "    .dataframe tbody tr th:only-of-type {\n",
       "        vertical-align: middle;\n",
       "    }\n",
       "\n",
       "    .dataframe tbody tr th {\n",
       "        vertical-align: top;\n",
       "    }\n",
       "\n",
       "    .dataframe thead th {\n",
       "        text-align: right;\n",
       "    }\n",
       "</style>\n",
       "<table border=\"1\" class=\"dataframe\">\n",
       "  <thead>\n",
       "    <tr style=\"text-align: right;\">\n",
       "      <th></th>\n",
       "      <th>row_id</th>\n",
       "      <th>num_sold</th>\n",
       "    </tr>\n",
       "  </thead>\n",
       "  <tbody>\n",
       "    <tr>\n",
       "      <th>0</th>\n",
       "      <td>70128</td>\n",
       "      <td>455.885498</td>\n",
       "    </tr>\n",
       "    <tr>\n",
       "      <th>1</th>\n",
       "      <td>70129</td>\n",
       "      <td>382.636597</td>\n",
       "    </tr>\n",
       "    <tr>\n",
       "      <th>2</th>\n",
       "      <td>70130</td>\n",
       "      <td>325.592621</td>\n",
       "    </tr>\n",
       "    <tr>\n",
       "      <th>3</th>\n",
       "      <td>70131</td>\n",
       "      <td>532.578125</td>\n",
       "    </tr>\n",
       "    <tr>\n",
       "      <th>4</th>\n",
       "      <td>70132</td>\n",
       "      <td>151.522888</td>\n",
       "    </tr>\n",
       "    <tr>\n",
       "      <th>...</th>\n",
       "      <td>...</td>\n",
       "      <td>...</td>\n",
       "    </tr>\n",
       "    <tr>\n",
       "      <th>17515</th>\n",
       "      <td>87643</td>\n",
       "      <td>614.156494</td>\n",
       "    </tr>\n",
       "    <tr>\n",
       "      <th>17516</th>\n",
       "      <td>87644</td>\n",
       "      <td>204.035187</td>\n",
       "    </tr>\n",
       "    <tr>\n",
       "      <th>17517</th>\n",
       "      <td>87645</td>\n",
       "      <td>159.579880</td>\n",
       "    </tr>\n",
       "    <tr>\n",
       "      <th>17518</th>\n",
       "      <td>87646</td>\n",
       "      <td>141.523468</td>\n",
       "    </tr>\n",
       "    <tr>\n",
       "      <th>17519</th>\n",
       "      <td>87647</td>\n",
       "      <td>215.652634</td>\n",
       "    </tr>\n",
       "  </tbody>\n",
       "</table>\n",
       "<p>17520 rows × 2 columns</p>\n",
       "</div>"
      ],
      "text/plain": [
       "       row_id    num_sold\n",
       "0       70128  455.885498\n",
       "1       70129  382.636597\n",
       "2       70130  325.592621\n",
       "3       70131  532.578125\n",
       "4       70132  151.522888\n",
       "...       ...         ...\n",
       "17515   87643  614.156494\n",
       "17516   87644  204.035187\n",
       "17517   87645  159.579880\n",
       "17518   87646  141.523468\n",
       "17519   87647  215.652634\n",
       "\n",
       "[17520 rows x 2 columns]"
      ]
     },
     "execution_count": 39,
     "metadata": {},
     "output_type": "execute_result"
    }
   ],
   "source": [
    "sample['num_sold'] = y_pred\n",
    "sample.to_csv(\"submission.csv\", index=False)\n",
    "sample"
   ]
  },
  {
   "cell_type": "code",
   "execution_count": null,
   "id": "346ccea9",
   "metadata": {
    "papermill": {
     "duration": 0.030744,
     "end_time": "2022-09-05T05:57:03.831461",
     "exception": false,
     "start_time": "2022-09-05T05:57:03.800717",
     "status": "completed"
    },
    "tags": []
   },
   "outputs": [],
   "source": []
  }
 ],
 "metadata": {
  "kernelspec": {
   "display_name": "Python 3",
   "language": "python",
   "name": "python3"
  },
  "language_info": {
   "codemirror_mode": {
    "name": "ipython",
    "version": 3
   },
   "file_extension": ".py",
   "mimetype": "text/x-python",
   "name": "python",
   "nbconvert_exporter": "python",
   "pygments_lexer": "ipython3",
   "version": "3.7.12"
  },
  "papermill": {
   "default_parameters": {},
   "duration": 1003.504773,
   "end_time": "2022-09-05T05:57:05.088053",
   "environment_variables": {},
   "exception": null,
   "input_path": "__notebook__.ipynb",
   "output_path": "__notebook__.ipynb",
   "parameters": {},
   "start_time": "2022-09-05T05:40:21.583280",
   "version": "2.3.4"
  }
 },
 "nbformat": 4,
 "nbformat_minor": 5
}
